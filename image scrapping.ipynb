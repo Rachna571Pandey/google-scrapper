{
 "cells": [
  {
   "cell_type": "code",
   "execution_count": 1,
   "id": "91efb4f0",
   "metadata": {},
   "outputs": [],
   "source": [
    "import requests\n",
    "from bs4 import BeautifulSoup\n",
    "from urllib.request import urlopen as uReq\n",
    "import logging\n",
    "import os"
   ]
  },
  {
   "cell_type": "code",
   "execution_count": 2,
   "id": "b54427cc",
   "metadata": {},
   "outputs": [],
   "source": [
    "save_dir = \"images/\"\n",
    "if not os.path.exists(save_dir):\n",
    "    os.makedirs(save_dir)"
   ]
  },
  {
   "cell_type": "code",
   "execution_count": 3,
   "id": "17f19ccf",
   "metadata": {},
   "outputs": [],
   "source": [
    "headers = {\"User-Agent\" : \"Mozilla/5.0(Windows NT 10.0; Win64; x64 ) AppleWebkit/537.36 (KHTML, like Gecko) Chrome/58.0.3029.110 Safari/537.56\"}"
   ]
  },
  {
   "cell_type": "code",
   "execution_count": 4,
   "id": "6493c283",
   "metadata": {},
   "outputs": [],
   "source": [
    "query = \"virat kohli\"\n",
    "response = requests.get(f\"https://www.google.com/search?q={query}&source=lnms&sa=x&ved=2ahUKEwjv8tyTyft-AhWibmwGHfNoC1cQAUoAXoECAEQAw&biw=136&udm=2\")"
   ]
  },
  {
   "cell_type": "code",
   "execution_count": 5,
   "id": "7f911f81",
   "metadata": {},
   "outputs": [
    {
     "name": "stdout",
     "output_type": "stream",
     "text": [
      "<Response [200]>\n"
     ]
    }
   ],
   "source": [
    "print(response)"
   ]
  },
  {
   "cell_type": "code",
   "execution_count": 6,
   "id": "0585c294",
   "metadata": {},
   "outputs": [],
   "source": [
    "Soup = BeautifulSoup(response.content, 'html.parser')"
   ]
  },
  {
   "cell_type": "code",
   "execution_count": 7,
   "id": "8822831b",
   "metadata": {},
   "outputs": [
    {
     "data": {
      "text/plain": [
       "<!DOCTYPE html PUBLIC \"-//WAPFORUM//DTD XHTML Mobile 1.0//EN\" \"http://www.wapforum.org/DTD/xhtml-mobile10.dtd\">\n",
       "<html lang=\"en-IN\" xmlns=\"http://www.w3.org/1999/xhtml\"><head><meta content=\"application/xhtml+xml; charset=utf-8\" http-equiv=\"Content-Type\"/><meta content=\"no-cache\" name=\"Cache-Control\"/><title>virat kohli - Google Search</title><style>a{text-decoration:none;color:inherit}a:hover{text-decoration:underline}a img{border:0}body{font-family:arial,sans-serif;padding:8px;margin:0 auto;max-width:700px;min-width:240px;}.FbhRzb{border-left:thin solid #dadce0;border-right:thin solid #dadce0;border-top:thin solid #dadce0;height:40px;overflow:hidden}.n692Zd{margin-bottom:10px}.cvifge{height:40px;border-spacing:0}.QvGUP{height:40px;padding:0 8px 0 8px;vertical-align:top}.O4cRJf{height:40px;width:100%;padding:0;padding-right:14px}.O1ePr{height:40px;padding:0;vertical-align:top}.kgJEQe{height:36px;width:98px;vertical-align:top;margin-top:4px}.lXLRf{vertical-align:top}.MhzMZd{border:0;vertical-align:middle;font-size:14px;height:40px;padding:0;width:100%;padding-left:14px}.xB0fq{height:40px;border:none;font-size:14px;background-color:#1a73e8;color:#fff;padding:0 14px;margin:0;vertical-align:top;cursor:pointer}.xB0fq:focus{border:1px solid #1a73e8}.M7pB2{border:thin solid #dadce0;margin:0 0 3px 0;font-size:13px;font-weight:500;height:40px}.euZec{width:100%;height:40px;text-align:center;border-spacing:0}table.euZec td{padding:0;width:25%}.QIqI7{display:inline-block;padding-top:4px;font-weight:bold;color:#4285f4}.EY24We{border-bottom:2px solid #4285f4}.CsQyDc{display:inline-block;color:#70757a}.TuS8Ad{font-size:14px}.HddGcc{padding:8px;color:#70757a}.dzp8ae{font-weight:bold;color:#3c4043}.rEM8G{color:#70757a}.bookcf{table-layout:fixed;width:100%;border-spacing:0}.InWNIe{text-align:center}.uZgmoc{border:thin solid #dadce0;color:#70757a;font-size:14px;text-align:center;table-layout:fixed;width:100%}.frGj1b{display:block;padding:16px 0 12px 0;width:100%}.BnJWBc{text-align:center;padding:6px 0 13px 0;height:35px}.e3goi{vertical-align:top;padding:0;height:180px}.GpQGbf{margin:auto;border-collapse:collapse;border-spacing:0;width:100%}</style></head><body><style>.X6ZCif{color:#202124;font-size:11px;line-height:16px;display:inline-block;padding-top:2px;overflow:hidden;padding-bottom:4px;width:100%}.TwVfHd{border-radius:16px;border:thin solid #dadce0;display:inline-block;padding:8px 8px;margin-right:8px;margin-bottom:4px}.yekiAe{background-color:#dadce0}.jjVJ4e{width:100%}.ezO2md{border:thin solid #dadce0;padding:16px 14px 12px 14px;margin-bottom:10px;font-family:arial,sans-serif}.lIMUZd{font-family:arial,sans-serif}.RntSmf{border-spacing:0}.lgD2Tc{width:100%}.SpelHe{text-align:center}.SpelHe{position:relative}.kCmkOe{position:relative}.kCmkOe{width:162px;height:140px;line-height:140px;overflow:'hidden';text-align:center}.DS1iW{text-align:center;margin:auto;vertical-align:middle;max-width:162px;max-height:140px}.AlD19d{padding-top:2px;padding-bottom:8px;}.fYyStc{word-break:break-word}.ynsChf{display:block;white-space:nowrap;overflow:hidden;text-overflow:ellipsis}.Fj3V3b{color:#1967d2;font-size:14px;line-height:20px}.FrIlee{color:#202124;font-size:11px;line-height:16px}.F9iS2e{color:#70757a;font-size:11px;line-height:16px}.WMQ2Le{color:#70757a;font-size:12px;line-height:16px}.x3G5ab{color:#202124;font-size:12px;line-height:16px}.fuLhoc{color:#1967d2;font-size:16px;line-height:20px}.epoveb{font-size:24px;line-height:28px;font-weight:400;color:#202124}.dXDvrc{color:#0d652d;font-size:14px;line-height:20px;word-wrap:break-word}.dloBPe{font-weight:bold}.YVIcad{color:#70757a}.JkVVdd{color:#ea4335}.oXZRFd{color:#ea4335}.MQHtg{color:#fbbc04}.pyMRrb{color:#1e8e3e}.EtTZid{color:#1e8e3e}.M3vVJe{color:#1967d2}.qXLe6d{display:block}.NHQNef{font-style:italic}.Cb8Z7c{white-space:pre}a.ZWRArf{text-decoration:none}a .CVA68e:hover{text-decoration:underline}</style><div class=\"n692Zd\"><div class=\"BnJWBc\"><a class=\"lXLRf\" href=\"/?sa=x&amp;sca_esv=7ace930b2ef28337&amp;biw=136&amp;output=images&amp;ie=UTF-8&amp;tbm=isch&amp;ved=0ahUKEwinpNiXy6aJAxVAr1YBHZTxMDMQPAgC\"><img alt=\"Google\" class=\"kgJEQe\" src=\"/images/branding/searchlogo/1x/googlelogo_desk_heirloom_color_150x55dp.gif\"/></a></div><div class=\"FbhRzb\"><form action=\"/search\"><input name=\"sca_esv\" type=\"hidden\" value=\"7ace930b2ef28337\"/><input name=\"biw\" type=\"hidden\" value=\"136\"/><input name=\"ie\" type=\"hidden\" value=\"ISO-8859-1\"/><input name=\"tbm\" type=\"hidden\" value=\"isch\"/><input name=\"oq\" type=\"hidden\"/><input name=\"aqs\" type=\"hidden\"/><table class=\"cvifge\"><tr><td class=\"O4cRJf\"><input class=\"MhzMZd\" name=\"q\" type=\"text\" value=\"virat kohli\"/></td><td class=\"O1ePr\"><input class=\"xB0fq\" type=\"submit\" value=\"Search\"/></td></tr></table></form></div><div class=\"M7pB2\"><table class=\"euZec\"><tbody><tr><td><a class=\"CsQyDc\" href=\"/search?q=virat+kohli&amp;sca_esv=7ace930b2ef28337&amp;biw=136&amp;ie=UTF-8&amp;source=lnms&amp;sa=X&amp;ved=0ahUKEwinpNiXy6aJAxVAr1YBHZTxMDMQ_AUIBCgA\">ALL</a></td><td><a class=\"CsQyDc\" href=\"/search?q=virat+kohli&amp;sca_esv=7ace930b2ef28337&amp;biw=136&amp;ie=UTF-8&amp;tbm=nws&amp;source=lnms&amp;sa=X&amp;ved=0ahUKEwinpNiXy6aJAxVAr1YBHZTxMDMQ_AUIBSgB\">NEWS</a></td><td class=\"EY24We\"><span class=\"QIqI7\">IMAGES</span></td><td><a class=\"CsQyDc\" href=\"/search?q=virat+kohli&amp;sca_esv=7ace930b2ef28337&amp;biw=136&amp;ie=UTF-8&amp;tbm=vid&amp;source=lnms&amp;sa=X&amp;ved=0ahUKEwinpNiXy6aJAxVAr1YBHZTxMDMQ_AUIBygD\">VIDEOS</a></td></tr></tbody></table></div></div><div><table class=\"GpQGbf\"><tr><td align=\"center\" class=\"e3goi\"><div class=\"jjVJ4e\"> <div> <div class=\"lIMUZd\"><div><table class=\"RntSmf\"><tr><td><a href=\"/url?q=https://en.wikipedia.org/wiki/Virat_Kohli&amp;sa=U&amp;ved=2ahUKEwinpNiXy6aJAxVAr1YBHZTxMDMQqoUBegQIAxAB&amp;usg=AOvVaw3RPTwqO3vhZbHxFdbfvRKS\"><div class=\"kCmkOe\"><img alt=\"\" class=\"DS1iW\" src=\"https://encrypted-tbn0.gstatic.com/images?q=tbn:ANd9GcTgbKNzBeCa4aRKG8_ZSvgyH1F3Xmn1iJoQ7GGVTa0TKuVQ6PohHAZl6WPJGA&amp;s\"/></div></a></td></tr><tr><td><a href=\"/url?q=https://en.wikipedia.org/wiki/Virat_Kohli&amp;sa=U&amp;ved=2ahUKEwinpNiXy6aJAxVAr1YBHZTxMDMQr4kDegQIAxAC&amp;usg=AOvVaw3iZ2nezPtwnBM6l0754RRO\"><div class=\"AlD19d\"> <span class=\"qXLe6d x3G5ab\"> <span class=\"fYyStc\">Virat Kohli - Wikipedia</span> </span> <span class=\"qXLe6d F9iS2e\"> <span class=\"fYyStc\">en.wikipedia.org</span> </span> </div></a></td></tr></table></div></div> </div> </div></td><td align=\"center\" class=\"e3goi\"><div class=\"jjVJ4e\"> <div> <div class=\"lIMUZd\"><div><table class=\"RntSmf\"><tr><td><a href=\"/url?q=https://www.britannica.com/biography/Virat-Kohli&amp;sa=U&amp;ved=2ahUKEwinpNiXy6aJAxVAr1YBHZTxMDMQqoUBegQIExAB&amp;usg=AOvVaw2sNwBo-eTkdX35YPrUfmli\"><div class=\"kCmkOe\"><img alt=\"\" class=\"DS1iW\" src=\"https://encrypted-tbn0.gstatic.com/images?q=tbn:ANd9GcQq8X0nLNaCzy7-IB3JuFXdBf8TU8Osb9_3kM_zz_nV_7K3F5pk8RPNXJHQB-M&amp;s\"/></div></a></td></tr><tr><td><a href=\"/url?q=https://www.britannica.com/biography/Virat-Kohli&amp;sa=U&amp;ved=2ahUKEwinpNiXy6aJAxVAr1YBHZTxMDMQr4kDegQIExAC&amp;usg=AOvVaw0DE4UoforfbxO-jb5LEx0l\"><div class=\"AlD19d\"> <span class=\"qXLe6d x3G5ab\"> <span class=\"fYyStc\">Virat Kohli | Life, Career,...</span> </span> <span class=\"qXLe6d F9iS2e\"> <span class=\"fYyStc\">www.britannica.com</span> </span> </div></a></td></tr></table></div></div> </div> </div></td><td align=\"center\" class=\"e3goi\"><div class=\"jjVJ4e\"> <div> <div class=\"lIMUZd\"><div><table class=\"RntSmf\"><tr><td><a href=\"/url?q=https://sports.ndtv.com/cricket/players/967-virat-kohli-playerprofile&amp;sa=U&amp;ved=2ahUKEwinpNiXy6aJAxVAr1YBHZTxMDMQqoUBegQIEhAB&amp;usg=AOvVaw36j7soDnPjlVTNyOJ6jAul\"><div class=\"kCmkOe\"><img alt=\"\" class=\"DS1iW\" src=\"https://encrypted-tbn0.gstatic.com/images?q=tbn:ANd9GcS3R1aGEGS7JDq5Bx1f4txDZr6LmVWA98e_JEj34pk6B2OJXijenZeG_DdK&amp;s\"/></div></a></td></tr><tr><td><a href=\"/url?q=https://sports.ndtv.com/cricket/players/967-virat-kohli-playerprofile&amp;sa=U&amp;ved=2ahUKEwinpNiXy6aJAxVAr1YBHZTxMDMQr4kDegQIEhAC&amp;usg=AOvVaw3tWDB9Je7bKKo4vhOQc-rk\"><div class=\"AlD19d\"> <span class=\"qXLe6d x3G5ab\"> <span class=\"fYyStc\">Virat Kohli Profile -...</span> </span> <span class=\"qXLe6d F9iS2e\"> <span class=\"fYyStc\">sports.ndtv.com</span> </span> </div></a></td></tr></table></div></div> </div> </div></td><td align=\"center\" class=\"e3goi\"><div class=\"jjVJ4e\"> <div> <div class=\"lIMUZd\"><div><table class=\"RntSmf\"><tr><td><a href=\"/url?q=https://www.hindustantimes.com/cricket/players/virat-kohli-3993&amp;sa=U&amp;ved=2ahUKEwinpNiXy6aJAxVAr1YBHZTxMDMQqoUBegQIERAB&amp;usg=AOvVaw0JkcqZMrW55PY4SqFgx2QW\"><div class=\"kCmkOe\"><img alt=\"\" class=\"DS1iW\" src=\"https://encrypted-tbn0.gstatic.com/images?q=tbn:ANd9GcTSXAAowoe0NgqE0pqClijI-yiRHh6rTGtVdCFlASGdLbACDc387hCvU2vNDg&amp;s\"/></div></a></td></tr><tr><td><a href=\"/url?q=https://www.hindustantimes.com/cricket/players/virat-kohli-3993&amp;sa=U&amp;ved=2ahUKEwinpNiXy6aJAxVAr1YBHZTxMDMQr4kDegQIERAC&amp;usg=AOvVaw08u__tvJFeCKMEjSFzyWUn\"><div class=\"AlD19d\"> <span class=\"qXLe6d x3G5ab\"> <span class=\"fYyStc\">Virat Kohli Profile - Virat...</span> </span> <span class=\"qXLe6d F9iS2e\"> <span class=\"fYyStc\">www.hindustantimes.com</span> </span> </div></a></td></tr></table></div></div> </div> </div></td></tr><tr><td align=\"center\" class=\"e3goi\"><div class=\"jjVJ4e\"> <div> <div class=\"lIMUZd\"><div><table class=\"RntSmf\"><tr><td><a href=\"/url?q=https://www.iplt20.com/teams/royal-challengers-bengaluru/squad-details/164&amp;sa=U&amp;ved=2ahUKEwinpNiXy6aJAxVAr1YBHZTxMDMQqoUBegQIDxAB&amp;usg=AOvVaw04ryMIVao9xgxtp3MByBrl\"><div class=\"kCmkOe\"><img alt=\"\" class=\"DS1iW\" src=\"https://encrypted-tbn0.gstatic.com/images?q=tbn:ANd9GcTm-Qq6or-Qj64j8Ew3lskOFjKOGgu9Ndx6z7w3vvPr-4LYCijPsJg5_O8oZw&amp;s\"/></div></a></td></tr><tr><td><a href=\"/url?q=https://www.iplt20.com/teams/royal-challengers-bengaluru/squad-details/164&amp;sa=U&amp;ved=2ahUKEwinpNiXy6aJAxVAr1YBHZTxMDMQr4kDegQIDxAC&amp;usg=AOvVaw3hmPr8K0zUw3isw-YHRMWz\"><div class=\"AlD19d\"> <span class=\"qXLe6d x3G5ab\"> <span class=\"fYyStc\">IPL 2024 | Royal...</span> </span> <span class=\"qXLe6d F9iS2e\"> <span class=\"fYyStc\">www.iplt20.com</span> </span> </div></a></td></tr></table></div></div> </div> </div></td><td align=\"center\" class=\"e3goi\"><div class=\"jjVJ4e\"> <div> <div class=\"lIMUZd\"><div><table class=\"RntSmf\"><tr><td><a href=\"/url?q=https://simple.wikipedia.org/wiki/Virat_Kohli&amp;sa=U&amp;ved=2ahUKEwinpNiXy6aJAxVAr1YBHZTxMDMQqoUBegQIEBAB&amp;usg=AOvVaw2H7yKgeBrb15914nZDFIy9\"><div class=\"kCmkOe\"><img alt=\"\" class=\"DS1iW\" src=\"https://encrypted-tbn0.gstatic.com/images?q=tbn:ANd9GcTIozrd1mZMyYfKHdy2s65qL6vhqvtNKc99xuAw9pPMPe0arSm3qqZ4WaDAqD8&amp;s\"/></div></a></td></tr><tr><td><a href=\"/url?q=https://simple.wikipedia.org/wiki/Virat_Kohli&amp;sa=U&amp;ved=2ahUKEwinpNiXy6aJAxVAr1YBHZTxMDMQr4kDegQIEBAC&amp;usg=AOvVaw0m-dMXSCYPUu4eCdOj66C_\"><div class=\"AlD19d\"> <span class=\"qXLe6d x3G5ab\"> <span class=\"fYyStc\">Virat Kohli - Simple...</span> </span> <span class=\"qXLe6d F9iS2e\"> <span class=\"fYyStc\">simple.wikipedia.org</span> </span> </div></a></td></tr></table></div></div> </div> </div></td><td align=\"center\" class=\"e3goi\"><div class=\"jjVJ4e\"> <div> <div class=\"lIMUZd\"><div><table class=\"RntSmf\"><tr><td><a href=\"/url?q=https://m.rediff.com/cricket/report/we-have-got-back-the-original-virat-kohli/20230117.htm&amp;sa=U&amp;ved=2ahUKEwinpNiXy6aJAxVAr1YBHZTxMDMQqoUBegQIDhAB&amp;usg=AOvVaw0xcI0XN1DfR8OcpOH7UARJ\"><div class=\"kCmkOe\"><img alt=\"\" class=\"DS1iW\" src=\"https://encrypted-tbn0.gstatic.com/images?q=tbn:ANd9GcR31yH7qlDziUlJXlHkXWecPZWAX-UXw5HvmxOTVjhraNS4IrYozrED5TWnDQ&amp;s\"/></div></a></td></tr><tr><td><a href=\"/url?q=https://m.rediff.com/cricket/report/we-have-got-back-the-original-virat-kohli/20230117.htm&amp;sa=U&amp;ved=2ahUKEwinpNiXy6aJAxVAr1YBHZTxMDMQr4kDegQIDhAC&amp;usg=AOvVaw13DtWmOuJwYtImo7ZmpKXH\"><div class=\"AlD19d\"> <span class=\"qXLe6d x3G5ab\"> <span class=\"fYyStc\">We have got back the...</span> </span> <span class=\"qXLe6d F9iS2e\"> <span class=\"fYyStc\">m.rediff.com</span> </span> </div></a></td></tr></table></div></div> </div> </div></td><td align=\"center\" class=\"e3goi\"><div class=\"jjVJ4e\"> <div> <div class=\"lIMUZd\"><div><table class=\"RntSmf\"><tr><td><a href=\"/url?q=https://www.deccanchronicle.com/sports/virat-kohli-creates-a-new-record-and-its-not-associated-with-cricket-1309122&amp;sa=U&amp;ved=2ahUKEwinpNiXy6aJAxVAr1YBHZTxMDMQqoUBegQIDBAB&amp;usg=AOvVaw2xxxstB7ZaqFHRB8jwhvDi\"><div class=\"kCmkOe\"><img alt=\"\" class=\"DS1iW\" src=\"https://encrypted-tbn0.gstatic.com/images?q=tbn:ANd9GcQ73e_5YEpS8OAYPj8BHOiy_drJebdou0TetKBn8cH3Pvew9p9FlFZVdCewl4s&amp;s\"/></div></a></td></tr><tr><td><a href=\"/url?q=https://www.deccanchronicle.com/sports/virat-kohli-creates-a-new-record-and-its-not-associated-with-cricket-1309122&amp;sa=U&amp;ved=2ahUKEwinpNiXy6aJAxVAr1YBHZTxMDMQr4kDegQIDBAC&amp;usg=AOvVaw3m0cp6_CRJAeYHbtdKj_1E\"><div class=\"AlD19d\"> <span class=\"qXLe6d x3G5ab\"> <span class=\"fYyStc\">Virat Kohli creates a new...</span> </span> <span class=\"qXLe6d F9iS2e\"> <span class=\"fYyStc\">www.deccanchronicle.com</span> </span> </div></a></td></tr></table></div></div> </div> </div></td></tr><tr><td align=\"center\" class=\"e3goi\"><div class=\"jjVJ4e\"> <div> <div class=\"lIMUZd\"><div><table class=\"RntSmf\"><tr><td><a href=\"/url?q=https://www.espncricinfo.com/cricketers/virat-kohli-253802&amp;sa=U&amp;ved=2ahUKEwinpNiXy6aJAxVAr1YBHZTxMDMQqoUBegQIDRAB&amp;usg=AOvVaw0Tb-SlSUIzJbjm_1D-XjLs\"><div class=\"kCmkOe\"><img alt=\"\" class=\"DS1iW\" src=\"https://encrypted-tbn0.gstatic.com/images?q=tbn:ANd9GcTkbGjYZCZsi0-TAjTK1v8Iu6fwMwq0fZJzdpk-lDrhUbbzc-TkkYODgfnD5Q&amp;s\"/></div></a></td></tr><tr><td><a href=\"/url?q=https://www.espncricinfo.com/cricketers/virat-kohli-253802&amp;sa=U&amp;ved=2ahUKEwinpNiXy6aJAxVAr1YBHZTxMDMQr4kDegQIDRAC&amp;usg=AOvVaw2hH1njNmVJymnq8GCfRCY5\"><div class=\"AlD19d\"> <span class=\"qXLe6d x3G5ab\"> <span class=\"fYyStc\">Virat Kohli Profile -...</span> </span> <span class=\"qXLe6d F9iS2e\"> <span class=\"fYyStc\">www.espncricinfo.com</span> </span> </div></a></td></tr></table></div></div> </div> </div></td><td align=\"center\" class=\"e3goi\"><div class=\"jjVJ4e\"> <div> <div class=\"lIMUZd\"><div><table class=\"RntSmf\"><tr><td><a href=\"/url?q=https://www.facebook.com/youngcricketerviratkohli/&amp;sa=U&amp;ved=2ahUKEwinpNiXy6aJAxVAr1YBHZTxMDMQqoUBegQIChAB&amp;usg=AOvVaw2dUu_8Qf7J2eYt9YM2oRVX\"><div class=\"kCmkOe\"><img alt=\"\" class=\"DS1iW\" src=\"https://encrypted-tbn0.gstatic.com/images?q=tbn:ANd9GcQyWQKMSeh9kfiZzd-lxrMWj9zwMx3HHnz1zF8yzthkcKLaCBYx5TUzsmeejg&amp;s\"/></div></a></td></tr><tr><td><a href=\"/url?q=https://www.facebook.com/youngcricketerviratkohli/&amp;sa=U&amp;ved=2ahUKEwinpNiXy6aJAxVAr1YBHZTxMDMQr4kDegQIChAC&amp;usg=AOvVaw1SA2q0Uld8VbziT3BL77ad\"><div class=\"AlD19d\"> <span class=\"qXLe6d x3G5ab\"> <span class=\"fYyStc\">Virat Kohli - The King Of...</span> </span> <span class=\"qXLe6d F9iS2e\"> <span class=\"fYyStc\">www.facebook.com</span> </span> </div></a></td></tr></table></div></div> </div> </div></td><td align=\"center\" class=\"e3goi\"><div class=\"jjVJ4e\"> <div> <div class=\"lIMUZd\"><div><table class=\"RntSmf\"><tr><td><a href=\"/url?q=https://www.instagram.com/virat.kohli/&amp;sa=U&amp;ved=2ahUKEwinpNiXy6aJAxVAr1YBHZTxMDMQqoUBegQICRAB&amp;usg=AOvVaw2I2pEgP7WozPsi5zABqA09\"><div class=\"kCmkOe\"><img alt=\"\" class=\"DS1iW\" src=\"https://encrypted-tbn0.gstatic.com/images?q=tbn:ANd9GcSdmIMjOFR3Ip3HdoQybU8PEjdSScQI3AK5ltS-tG0L3fIznxKJLDWsz9i7-g&amp;s\"/></div></a></td></tr><tr><td><a href=\"/url?q=https://www.instagram.com/virat.kohli/&amp;sa=U&amp;ved=2ahUKEwinpNiXy6aJAxVAr1YBHZTxMDMQr4kDegQICRAC&amp;usg=AOvVaw3qjwvV2X2XtN7ekN4out6S\"><div class=\"AlD19d\"> <span class=\"qXLe6d x3G5ab\"> <span class=\"fYyStc\">Virat Kohli (@virat.kohli)...</span> </span> <span class=\"qXLe6d F9iS2e\"> <span class=\"fYyStc\">www.instagram.com</span> </span> </div></a></td></tr></table></div></div> </div> </div></td><td align=\"center\" class=\"e3goi\"><div class=\"jjVJ4e\"> <div> <div class=\"lIMUZd\"><div><table class=\"RntSmf\"><tr><td><a href=\"/url?q=https://www.livemint.com/sports/cricket-news/ind-vs-nz-test-series-virat-kohli-teased-by-ex-england-captain-after-indias-loss-against-new-zealand-11729584936252.html&amp;sa=U&amp;ved=2ahUKEwinpNiXy6aJAxVAr1YBHZTxMDMQqoUBegQICxAB&amp;usg=AOvVaw2_YPVWNpQxQ8c2cdELkJqX\"><div class=\"kCmkOe\"><img alt=\"\" class=\"DS1iW\" src=\"https://encrypted-tbn0.gstatic.com/images?q=tbn:ANd9GcRgUVRLQ7Ee9YLIldXRrbWCn3hzcM_6r9gw6bosG0kSOUZ486piSVCjMkeoge8&amp;s\"/></div></a></td></tr><tr><td><a href=\"/url?q=https://www.livemint.com/sports/cricket-news/ind-vs-nz-test-series-virat-kohli-teased-by-ex-england-captain-after-indias-loss-against-new-zealand-11729584936252.html&amp;sa=U&amp;ved=2ahUKEwinpNiXy6aJAxVAr1YBHZTxMDMQr4kDegQICxAC&amp;usg=AOvVaw39tsxead3MAxzBAGIw4pGh\"><div class=\"AlD19d\"> <span class=\"qXLe6d x3G5ab\"> <span class=\"fYyStc\">Virat Kohli teased by...</span> </span> <span class=\"qXLe6d F9iS2e\"> <span class=\"fYyStc\">www.livemint.com</span> </span> </div></a></td></tr></table></div></div> </div> </div></td></tr><tr><td align=\"center\" class=\"e3goi\"><div class=\"jjVJ4e\"> <div> <div class=\"lIMUZd\"><div><table class=\"RntSmf\"><tr><td><a href=\"/url?q=https://timesofindia.indiatimes.com/entertainment/hindi/bollywood/news/virat-kohli-revealed-he-was-in-tears-while-speaking-to-anushka-sharma-after-scoring-a-century-iske-liye-ro-raha-tha-do-saal-se/articleshow/114533642.cms&amp;sa=U&amp;ved=2ahUKEwinpNiXy6aJAxVAr1YBHZTxMDMQqoUBegQIABAB&amp;usg=AOvVaw14F5An13jADpbxtL47BpT-\"><div class=\"kCmkOe\"><img alt=\"\" class=\"DS1iW\" src=\"https://encrypted-tbn0.gstatic.com/images?q=tbn:ANd9GcSo2ujRR5W88EKZfPTLcmrMMGm4yEvdlyllc2xRjQZkuTd3PXyyrcOx9lN3Fa0&amp;s\"/></div></a></td></tr><tr><td><a href=\"/url?q=https://timesofindia.indiatimes.com/entertainment/hindi/bollywood/news/virat-kohli-revealed-he-was-in-tears-while-speaking-to-anushka-sharma-after-scoring-a-century-iske-liye-ro-raha-tha-do-saal-se/articleshow/114533642.cms&amp;sa=U&amp;ved=2ahUKEwinpNiXy6aJAxVAr1YBHZTxMDMQr4kDegQIABAC&amp;usg=AOvVaw0MQKbCSM2CB4Kxed-E5rsC\"><div class=\"AlD19d\"> <span class=\"qXLe6d x3G5ab\"> <span class=\"fYyStc\">Virat Kohli revealed he was...</span> </span> <span class=\"qXLe6d F9iS2e\"> <span class=\"fYyStc\">timesofindia.indiatimes.com...</span> </span> </div></a></td></tr></table></div></div> </div> </div></td><td align=\"center\" class=\"e3goi\"><div class=\"jjVJ4e\"> <div> <div class=\"lIMUZd\"><div><table class=\"RntSmf\"><tr><td><a href=\"/url?q=https://www.indiatoday.in/sports/cricket/story/virat-kohli-ms-dhoni-to-become-india-second-most-capped-player-2618735-2024-10-17&amp;sa=U&amp;ved=2ahUKEwinpNiXy6aJAxVAr1YBHZTxMDMQqoUBegQIAhAB&amp;usg=AOvVaw2FL3vQbRkNe51EUnehV7-H\"><div class=\"kCmkOe\"><img alt=\"\" class=\"DS1iW\" src=\"https://encrypted-tbn0.gstatic.com/images?q=tbn:ANd9GcRP5lrGKR6f3Yj0xZaljvChlx4an_oJAvQbMfLZs4n5bPvyI1SH2xtQG17FaE4&amp;s\"/></div></a></td></tr><tr><td><a href=\"/url?q=https://www.indiatoday.in/sports/cricket/story/virat-kohli-ms-dhoni-to-become-india-second-most-capped-player-2618735-2024-10-17&amp;sa=U&amp;ved=2ahUKEwinpNiXy6aJAxVAr1YBHZTxMDMQr4kDegQIAhAC&amp;usg=AOvVaw01vWlWtPMS3mmDVxAb51tC\"><div class=\"AlD19d\"> <span class=\"qXLe6d x3G5ab\"> <span class=\"fYyStc\">Virat Kohli goes past MS...</span> </span> <span class=\"qXLe6d F9iS2e\"> <span class=\"fYyStc\">www.indiatoday.in</span> </span> </div></a></td></tr></table></div></div> </div> </div></td><td align=\"center\" class=\"e3goi\"><div class=\"jjVJ4e\"> <div> <div class=\"lIMUZd\"><div><table class=\"RntSmf\"><tr><td><a href=\"/url?q=https://in.pinterest.com/pin/984740274746655473/&amp;sa=U&amp;ved=2ahUKEwinpNiXy6aJAxVAr1YBHZTxMDMQqoUBegQIBxAB&amp;usg=AOvVaw0EO3KJowBY4cPrJnmPfkST\"><div class=\"kCmkOe\"><img alt=\"\" class=\"DS1iW\" src=\"https://encrypted-tbn0.gstatic.com/images?q=tbn:ANd9GcT80T6rBmgPk3kv_yGBGTDVdB1_hE9uPfiPeGaHywTP9_0u2rrMm37LUFvkhg&amp;s\"/></div></a></td></tr><tr><td><a href=\"/url?q=https://in.pinterest.com/pin/984740274746655473/&amp;sa=U&amp;ved=2ahUKEwinpNiXy6aJAxVAr1YBHZTxMDMQr4kDegQIBxAC&amp;usg=AOvVaw1cZ8gFpGbfXun6k7nPW5nb\"><div class=\"AlD19d\"> <span class=\"qXLe6d x3G5ab\"> <span class=\"fYyStc\">Virat Kohli batting</span> </span> <span class=\"qXLe6d F9iS2e\"> <span class=\"fYyStc\">in.pinterest.com</span> </span> </div></a></td></tr></table></div></div> </div> </div></td><td align=\"center\" class=\"e3goi\"><div class=\"jjVJ4e\"> <div> <div class=\"lIMUZd\"><div><table class=\"RntSmf\"><tr><td><a href=\"/url?q=https://www.sportskeeda.com/player/virat-kohli&amp;sa=U&amp;ved=2ahUKEwinpNiXy6aJAxVAr1YBHZTxMDMQqoUBegQIBhAB&amp;usg=AOvVaw24bxCookTs5hOKnabAcR6P\"><div class=\"kCmkOe\"><img alt=\"\" class=\"DS1iW\" src=\"https://encrypted-tbn0.gstatic.com/images?q=tbn:ANd9GcRGyuggQeH4XNsyC-Ayoj1UEK3cedOO5pVJlL3UEuYgMeG9kB3ybrSTx0jk_4I&amp;s\"/></div></a></td></tr><tr><td><a href=\"/url?q=https://www.sportskeeda.com/player/virat-kohli&amp;sa=U&amp;ved=2ahUKEwinpNiXy6aJAxVAr1YBHZTxMDMQr4kDegQIBhAC&amp;usg=AOvVaw1CdqjfA1Yk4p4yfi9hs6E8\"><div class=\"AlD19d\"> <span class=\"qXLe6d x3G5ab\"> <span class=\"fYyStc\">Virat Kohli Profile - Age,...</span> </span> <span class=\"qXLe6d F9iS2e\"> <span class=\"fYyStc\">www.sportskeeda.com</span> </span> </div></a></td></tr></table></div></div> </div> </div></td></tr><tr><td align=\"center\" class=\"e3goi\"><div class=\"jjVJ4e\"> <div> <div class=\"lIMUZd\"><div><table class=\"RntSmf\"><tr><td><a href=\"/url?q=https://medium.com/%40VarunArnold/a-letter-to-virat-kohli-c29413545462&amp;sa=U&amp;ved=2ahUKEwinpNiXy6aJAxVAr1YBHZTxMDMQqoUBegQIBRAB&amp;usg=AOvVaw3Y2fcYJfglYvKDb71BYDTN\"><div class=\"kCmkOe\"><img alt=\"\" class=\"DS1iW\" src=\"https://encrypted-tbn0.gstatic.com/images?q=tbn:ANd9GcRqHqwEuk0tC6sDuqL07MZL0oAd2seQ7Ovp7uSRT-QoRLD2op9uLe-YyuO2ZA&amp;s\"/></div></a></td></tr><tr><td><a href=\"/url?q=https://medium.com/%40VarunArnold/a-letter-to-virat-kohli-c29413545462&amp;sa=U&amp;ved=2ahUKEwinpNiXy6aJAxVAr1YBHZTxMDMQr4kDegQIBRAC&amp;usg=AOvVaw1SBMgl669PpuJeQ0L0fBVL\"><div class=\"AlD19d\"> <span class=\"qXLe6d x3G5ab\"> <span class=\"fYyStc\">A LETTER TO VIRAT KOHLI....</span> </span> <span class=\"qXLe6d F9iS2e\"> <span class=\"fYyStc\">medium.com</span> </span> </div></a></td></tr></table></div></div> </div> </div></td><td align=\"center\" class=\"e3goi\"><div class=\"jjVJ4e\"> <div> <div class=\"lIMUZd\"><div><table class=\"RntSmf\"><tr><td><a href=\"/url?q=https://www.deccanherald.com/ampstories/lifestyle/fashion/virat-kohlis-new-look-set-the-internet-on-fire-2943091&amp;sa=U&amp;ved=2ahUKEwinpNiXy6aJAxVAr1YBHZTxMDMQqoUBegQIBBAB&amp;usg=AOvVaw2M_lxA8SBJ9Psr8vsygSYR\"><div class=\"kCmkOe\"><img alt=\"\" class=\"DS1iW\" src=\"https://encrypted-tbn0.gstatic.com/images?q=tbn:ANd9GcQT5IoMXUQCHhtZPp9KfonIJmsBc_tLgREuWeTZfe8lwhGmMSsMPb3m9lHLbME&amp;s\"/></div></a></td></tr><tr><td><a href=\"/url?q=https://www.deccanherald.com/ampstories/lifestyle/fashion/virat-kohlis-new-look-set-the-internet-on-fire-2943091&amp;sa=U&amp;ved=2ahUKEwinpNiXy6aJAxVAr1YBHZTxMDMQr4kDegQIBBAC&amp;usg=AOvVaw2krBWLikWmB2Z7oJJpIkHW\"><div class=\"AlD19d\"> <span class=\"qXLe6d x3G5ab\"> <span class=\"fYyStc\">Virat Kohli's new look sets...</span> </span> <span class=\"qXLe6d F9iS2e\"> <span class=\"fYyStc\">www.deccanherald.com</span> </span> </div></a></td></tr></table></div></div> </div> </div></td><td align=\"center\" class=\"e3goi\"><div class=\"jjVJ4e\"> <div> <div class=\"lIMUZd\"><div><table class=\"RntSmf\"><tr><td><a href=\"/url?q=https://www.telegraphindia.com/sports/cricket/in-challenges-virat-kohli-discovers-crickets-beauty/cid/1922557&amp;sa=U&amp;ved=2ahUKEwinpNiXy6aJAxVAr1YBHZTxMDMQqoUBegQIARAB&amp;usg=AOvVaw3RF2WCjgwNToCo1SosXtmw\"><div class=\"kCmkOe\"><img alt=\"\" class=\"DS1iW\" src=\"https://encrypted-tbn0.gstatic.com/images?q=tbn:ANd9GcT8x89pLXeMNlm4-Nrjk8kFn2NfKoBA8NLYSyJKnbM6EG-2EewQgiKttVsWrEE&amp;s\"/></div></a></td></tr><tr><td><a href=\"/url?q=https://www.telegraphindia.com/sports/cricket/in-challenges-virat-kohli-discovers-crickets-beauty/cid/1922557&amp;sa=U&amp;ved=2ahUKEwinpNiXy6aJAxVAr1YBHZTxMDMQr4kDegQIARAC&amp;usg=AOvVaw3WfuvhDAyX5hLBmhc8--mg\"><div class=\"AlD19d\"> <span class=\"qXLe6d x3G5ab\"> <span class=\"fYyStc\">Test Cricket | In...</span> </span> <span class=\"qXLe6d F9iS2e\"> <span class=\"fYyStc\">www.telegraphindia.com</span> </span> </div></a></td></tr></table></div></div> </div> </div></td><td align=\"center\" class=\"e3goi\"><div class=\"jjVJ4e\"> <div> <div class=\"lIMUZd\"><div><table class=\"RntSmf\"><tr><td><a href=\"/url?q=https://www.hindustantimes.com/cricket/virat-kohli-attends-krishna-das-kirtan-in-mumbai-with-anushka-sharma-hours-after-india-new-zealand-loss-1st-test-101729479301153.html&amp;sa=U&amp;ved=2ahUKEwinpNiXy6aJAxVAr1YBHZTxMDMQqoUBegQICBAB&amp;usg=AOvVaw3LZEijj5PtGgIUsxTXU_ar\"><div class=\"kCmkOe\"><img alt=\"\" class=\"DS1iW\" src=\"https://encrypted-tbn0.gstatic.com/images?q=tbn:ANd9GcT9k6-zApOGTjwxtVHSVnP_aKLesybwEFXMWvW7qM6DpDMyZ9fo6duUZV_8Tu4&amp;s\"/></div></a></td></tr><tr><td><a href=\"/url?q=https://www.hindustantimes.com/cricket/virat-kohli-attends-krishna-das-kirtan-in-mumbai-with-anushka-sharma-hours-after-india-new-zealand-loss-1st-test-101729479301153.html&amp;sa=U&amp;ved=2ahUKEwinpNiXy6aJAxVAr1YBHZTxMDMQr4kDegQICBAC&amp;usg=AOvVaw3y0kFAQTDOoYZ1-Vrbcqjf\"><div class=\"AlD19d\"> <span class=\"qXLe6d x3G5ab\"> <span class=\"fYyStc\">Virat Kohli attends Krishna...</span> </span> <span class=\"qXLe6d F9iS2e\"> <span class=\"fYyStc\">www.hindustantimes.com</span> </span> </div></a></td></tr></table></div></div> </div> </div></td></tr></table></div><table class=\"uZgmoc\"><tbody><td><a class=\"frGj1b\" href=\"/search?q=virat+kohli&amp;sca_esv=7ace930b2ef28337&amp;biw=136&amp;ie=UTF-8&amp;tbm=isch&amp;ei=swMaZ-f-D8De2roPlOPDmQM&amp;start=20&amp;sa=N\">Next &gt;</a></td></tbody></table><br/><div class=\"TuS8Ad\" data-ved=\"0ahUKEwinpNiXy6aJAxVAr1YBHZTxMDMQpyoIRQ\"><style>.VYM29{font-weight:bold}</style><div align=\"center\" class=\"HddGcc\"><span class=\"VYM29\">Deori, Chhattisgarh</span><span> - </span><span>From your IP address</span><span> - </span><a href=\"/url?q=https://support.google.com/websearch%3Fp%3Dws_settings_location%26hl%3Den-IN&amp;opi=89978449&amp;sa=U&amp;ved=0ahUKEwinpNiXy6aJAxVAr1YBHZTxMDMQty4IRg&amp;usg=AOvVaw0cFA9KaaKRdwkFWMgf3Xeq\">Learn more</a></div><div align=\"center\"><a class=\"rEM8G\" href=\"/url?q=https://accounts.google.com/ServiceLogin%3Fcontinue%3Dhttps://www.google.com/search%253Fq%253Dvirat%252Bkohli%2526source%253Dlnms%2526sa%253Dx%2526ved%253D2ahUKEwjv8tyTyft-AhWibmwGHfNoC1cQAUoAXoECAEQAw%2526biw%253D136%2526tbm%253Disch%26hl%3Den&amp;opi=89978449&amp;sa=U&amp;ved=0ahUKEwinpNiXy6aJAxVAr1YBHZTxMDMQxs8CCEc&amp;usg=AOvVaw1lpuCkz6ikWSCe-ac3TxZX\">Sign in</a></div><div><table class=\"bookcf\"><tbody class=\"InWNIe\"><tr><td><a class=\"rEM8G\" href=\"https://www.google.com/preferences?hl=en&amp;sa=X&amp;ved=0ahUKEwinpNiXy6aJAxVAr1YBHZTxMDMQv5YECEg\">Settings</a></td><td><a class=\"rEM8G\" href=\"https://www.google.com/intl/en_in/policies/privacy/\">Privacy</a></td><td><a class=\"rEM8G\" href=\"https://www.google.com/intl/en_in/policies/terms/\">Terms</a></td></tr></tbody></table></div></div><div> </div></body></html>"
      ]
     },
     "execution_count": 7,
     "metadata": {},
     "output_type": "execute_result"
    }
   ],
   "source": [
    "Soup"
   ]
  },
  {
   "cell_type": "code",
   "execution_count": 8,
   "id": "9efaf1ba",
   "metadata": {},
   "outputs": [],
   "source": [
    "images_tags = Soup.find_all(\"img\")"
   ]
  },
  {
   "cell_type": "code",
   "execution_count": 9,
   "id": "23f63c52",
   "metadata": {},
   "outputs": [
    {
     "data": {
      "text/plain": [
       "[<img alt=\"Google\" class=\"kgJEQe\" src=\"/images/branding/searchlogo/1x/googlelogo_desk_heirloom_color_150x55dp.gif\"/>,\n",
       " <img alt=\"\" class=\"DS1iW\" src=\"https://encrypted-tbn0.gstatic.com/images?q=tbn:ANd9GcTgbKNzBeCa4aRKG8_ZSvgyH1F3Xmn1iJoQ7GGVTa0TKuVQ6PohHAZl6WPJGA&amp;s\"/>,\n",
       " <img alt=\"\" class=\"DS1iW\" src=\"https://encrypted-tbn0.gstatic.com/images?q=tbn:ANd9GcQq8X0nLNaCzy7-IB3JuFXdBf8TU8Osb9_3kM_zz_nV_7K3F5pk8RPNXJHQB-M&amp;s\"/>,\n",
       " <img alt=\"\" class=\"DS1iW\" src=\"https://encrypted-tbn0.gstatic.com/images?q=tbn:ANd9GcS3R1aGEGS7JDq5Bx1f4txDZr6LmVWA98e_JEj34pk6B2OJXijenZeG_DdK&amp;s\"/>,\n",
       " <img alt=\"\" class=\"DS1iW\" src=\"https://encrypted-tbn0.gstatic.com/images?q=tbn:ANd9GcTSXAAowoe0NgqE0pqClijI-yiRHh6rTGtVdCFlASGdLbACDc387hCvU2vNDg&amp;s\"/>,\n",
       " <img alt=\"\" class=\"DS1iW\" src=\"https://encrypted-tbn0.gstatic.com/images?q=tbn:ANd9GcTm-Qq6or-Qj64j8Ew3lskOFjKOGgu9Ndx6z7w3vvPr-4LYCijPsJg5_O8oZw&amp;s\"/>,\n",
       " <img alt=\"\" class=\"DS1iW\" src=\"https://encrypted-tbn0.gstatic.com/images?q=tbn:ANd9GcTIozrd1mZMyYfKHdy2s65qL6vhqvtNKc99xuAw9pPMPe0arSm3qqZ4WaDAqD8&amp;s\"/>,\n",
       " <img alt=\"\" class=\"DS1iW\" src=\"https://encrypted-tbn0.gstatic.com/images?q=tbn:ANd9GcR31yH7qlDziUlJXlHkXWecPZWAX-UXw5HvmxOTVjhraNS4IrYozrED5TWnDQ&amp;s\"/>,\n",
       " <img alt=\"\" class=\"DS1iW\" src=\"https://encrypted-tbn0.gstatic.com/images?q=tbn:ANd9GcQ73e_5YEpS8OAYPj8BHOiy_drJebdou0TetKBn8cH3Pvew9p9FlFZVdCewl4s&amp;s\"/>,\n",
       " <img alt=\"\" class=\"DS1iW\" src=\"https://encrypted-tbn0.gstatic.com/images?q=tbn:ANd9GcTkbGjYZCZsi0-TAjTK1v8Iu6fwMwq0fZJzdpk-lDrhUbbzc-TkkYODgfnD5Q&amp;s\"/>,\n",
       " <img alt=\"\" class=\"DS1iW\" src=\"https://encrypted-tbn0.gstatic.com/images?q=tbn:ANd9GcQyWQKMSeh9kfiZzd-lxrMWj9zwMx3HHnz1zF8yzthkcKLaCBYx5TUzsmeejg&amp;s\"/>,\n",
       " <img alt=\"\" class=\"DS1iW\" src=\"https://encrypted-tbn0.gstatic.com/images?q=tbn:ANd9GcSdmIMjOFR3Ip3HdoQybU8PEjdSScQI3AK5ltS-tG0L3fIznxKJLDWsz9i7-g&amp;s\"/>,\n",
       " <img alt=\"\" class=\"DS1iW\" src=\"https://encrypted-tbn0.gstatic.com/images?q=tbn:ANd9GcRgUVRLQ7Ee9YLIldXRrbWCn3hzcM_6r9gw6bosG0kSOUZ486piSVCjMkeoge8&amp;s\"/>,\n",
       " <img alt=\"\" class=\"DS1iW\" src=\"https://encrypted-tbn0.gstatic.com/images?q=tbn:ANd9GcSo2ujRR5W88EKZfPTLcmrMMGm4yEvdlyllc2xRjQZkuTd3PXyyrcOx9lN3Fa0&amp;s\"/>,\n",
       " <img alt=\"\" class=\"DS1iW\" src=\"https://encrypted-tbn0.gstatic.com/images?q=tbn:ANd9GcRP5lrGKR6f3Yj0xZaljvChlx4an_oJAvQbMfLZs4n5bPvyI1SH2xtQG17FaE4&amp;s\"/>,\n",
       " <img alt=\"\" class=\"DS1iW\" src=\"https://encrypted-tbn0.gstatic.com/images?q=tbn:ANd9GcT80T6rBmgPk3kv_yGBGTDVdB1_hE9uPfiPeGaHywTP9_0u2rrMm37LUFvkhg&amp;s\"/>,\n",
       " <img alt=\"\" class=\"DS1iW\" src=\"https://encrypted-tbn0.gstatic.com/images?q=tbn:ANd9GcRGyuggQeH4XNsyC-Ayoj1UEK3cedOO5pVJlL3UEuYgMeG9kB3ybrSTx0jk_4I&amp;s\"/>,\n",
       " <img alt=\"\" class=\"DS1iW\" src=\"https://encrypted-tbn0.gstatic.com/images?q=tbn:ANd9GcRqHqwEuk0tC6sDuqL07MZL0oAd2seQ7Ovp7uSRT-QoRLD2op9uLe-YyuO2ZA&amp;s\"/>,\n",
       " <img alt=\"\" class=\"DS1iW\" src=\"https://encrypted-tbn0.gstatic.com/images?q=tbn:ANd9GcQT5IoMXUQCHhtZPp9KfonIJmsBc_tLgREuWeTZfe8lwhGmMSsMPb3m9lHLbME&amp;s\"/>,\n",
       " <img alt=\"\" class=\"DS1iW\" src=\"https://encrypted-tbn0.gstatic.com/images?q=tbn:ANd9GcT8x89pLXeMNlm4-Nrjk8kFn2NfKoBA8NLYSyJKnbM6EG-2EewQgiKttVsWrEE&amp;s\"/>,\n",
       " <img alt=\"\" class=\"DS1iW\" src=\"https://encrypted-tbn0.gstatic.com/images?q=tbn:ANd9GcT9k6-zApOGTjwxtVHSVnP_aKLesybwEFXMWvW7qM6DpDMyZ9fo6duUZV_8Tu4&amp;s\"/>]"
      ]
     },
     "execution_count": 9,
     "metadata": {},
     "output_type": "execute_result"
    }
   ],
   "source": [
    "images_tags"
   ]
  },
  {
   "cell_type": "code",
   "execution_count": 10,
   "id": "b85d2980",
   "metadata": {},
   "outputs": [
    {
     "data": {
      "text/plain": [
       "21"
      ]
     },
     "execution_count": 10,
     "metadata": {},
     "output_type": "execute_result"
    }
   ],
   "source": [
    "len(images_tags)"
   ]
  },
  {
   "cell_type": "code",
   "execution_count": 11,
   "id": "d21946f0",
   "metadata": {},
   "outputs": [],
   "source": [
    "del images_tags[0]"
   ]
  },
  {
   "cell_type": "code",
   "execution_count": 12,
   "id": "c8827e08",
   "metadata": {},
   "outputs": [],
   "source": [
    "img_data_mongo = []\n",
    "for i in images_tags:\n",
    "    image_url = i['src']\n",
    "    image_data = requests.get(image_url).content\n",
    "    mydict = {\"index\": image_url, \"image\":  image_data}\n",
    "    img_data_mongo.append(mydict)\n",
    "    \n",
    "    with open(os.path.join(save_dir, f\"{query}_{images_tags.index(i)}.jpg\"),\"wb\") as f:\n",
    "        f.write(image_data)\n",
    "    \n",
    "    "
   ]
  },
  {
   "cell_type": "code",
   "execution_count": null,
   "id": "0184f0cc",
   "metadata": {},
   "outputs": [],
   "source": []
  },
  {
   "cell_type": "code",
   "execution_count": null,
   "id": "bf458a43",
   "metadata": {},
   "outputs": [],
   "source": []
  }
 ],
 "metadata": {
  "kernelspec": {
   "display_name": "Python 3",
   "language": "python",
   "name": "python3"
  },
  "language_info": {
   "codemirror_mode": {
    "name": "ipython",
    "version": 3
   },
   "file_extension": ".py",
   "mimetype": "text/x-python",
   "name": "python",
   "nbconvert_exporter": "python",
   "pygments_lexer": "ipython3",
   "version": "3.12.6"
  }
 },
 "nbformat": 4,
 "nbformat_minor": 5
}
