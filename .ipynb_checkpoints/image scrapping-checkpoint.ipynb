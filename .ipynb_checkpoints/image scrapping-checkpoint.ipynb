{
 "cells": [
  {
   "cell_type": "code",
   "execution_count": 1,
   "id": "91efb4f0",
   "metadata": {},
   "outputs": [],
   "source": [
    "import requests\n",
    "from bs4 import BeautifulSoup\n",
    "from urllib.request import urlopen as uReq\n",
    "import logging\n",
    "import os"
   ]
  },
  {
   "cell_type": "code",
   "execution_count": 2,
   "id": "b54427cc",
   "metadata": {},
   "outputs": [],
   "source": [
    "save_dir = \"images/\"\n",
    "if not os.path.exists(save_dir):\n",
    "    os.makedirs(save_dir)"
   ]
  },
  {
   "cell_type": "code",
   "execution_count": 3,
   "id": "17f19ccf",
   "metadata": {},
   "outputs": [],
   "source": [
    "headers = {\"User-Agent\" : \"Mozilla/5.0(Windows NT 10.0; Win64; x64 ) AppleWebkit/537.36 (KHTML, like Gecko) Chrome/58.0.3029.110 Safari/537.56\"}"
   ]
  },
  {
   "cell_type": "code",
   "execution_count": 4,
   "id": "6493c283",
   "metadata": {},
   "outputs": [],
   "source": [
    "query = \"virat kohli\"\n",
    "response = requests.get(f\"https://www.google.com/search?q={query}&source=lnms&sa=x&ved=2ahUKEwjv8tyTyft-AhWibmwGHfNoC1cQAUoAXoECAEQAw&biw=136&udm=2\")"
   ]
  },
  {
   "cell_type": "code",
   "execution_count": 5,
   "id": "7f911f81",
   "metadata": {},
   "outputs": [
    {
     "name": "stdout",
     "output_type": "stream",
     "text": [
      "<Response [200]>\n"
     ]
    }
   ],
   "source": [
    "print(response)"
   ]
  },
  {
   "cell_type": "code",
   "execution_count": 6,
   "id": "0585c294",
   "metadata": {},
   "outputs": [],
   "source": [
    "Soup = BeautifulSoup(response.content, 'html.parser')"
   ]
  },
  {
   "cell_type": "code",
   "execution_count": 7,
   "id": "8822831b",
   "metadata": {},
   "outputs": [
    {
     "data": {
      "text/plain": [
       "<!DOCTYPE html PUBLIC \"-//WAPFORUM//DTD XHTML Mobile 1.0//EN\" \"http://www.wapforum.org/DTD/xhtml-mobile10.dtd\">\n",
       "<html lang=\"en-IN\" xmlns=\"http://www.w3.org/1999/xhtml\"><head><meta content=\"application/xhtml+xml; charset=utf-8\" http-equiv=\"Content-Type\"/><meta content=\"no-cache\" name=\"Cache-Control\"/><title>virat kohli - Google Search</title><style>a{text-decoration:none;color:inherit}a:hover{text-decoration:underline}a img{border:0}body{font-family:arial,sans-serif;padding:8px;margin:0 auto;max-width:700px;min-width:240px;}.FbhRzb{border-left:thin solid #dadce0;border-right:thin solid #dadce0;border-top:thin solid #dadce0;height:40px;overflow:hidden}.n692Zd{margin-bottom:10px}.cvifge{height:40px;border-spacing:0}.QvGUP{height:40px;padding:0 8px 0 8px;vertical-align:top}.O4cRJf{height:40px;width:100%;padding:0;padding-right:14px}.O1ePr{height:40px;padding:0;vertical-align:top}.kgJEQe{height:36px;width:98px;vertical-align:top;margin-top:4px}.lXLRf{vertical-align:top}.MhzMZd{border:0;vertical-align:middle;font-size:14px;height:40px;padding:0;width:100%;padding-left:14px}.xB0fq{height:40px;border:none;font-size:14px;background-color:#1a73e8;color:#fff;padding:0 14px;margin:0;vertical-align:top;cursor:pointer}.xB0fq:focus{border:1px solid #1a73e8}.M7pB2{border:thin solid #dadce0;margin:0 0 3px 0;font-size:13px;font-weight:500;height:40px}.euZec{width:100%;height:40px;text-align:center;border-spacing:0}table.euZec td{padding:0;width:25%}.QIqI7{display:inline-block;padding-top:4px;font-weight:bold;color:#4285f4}.EY24We{border-bottom:2px solid #4285f4}.CsQyDc{display:inline-block;color:#70757a}.TuS8Ad{font-size:14px}.HddGcc{padding:8px;color:#70757a}.dzp8ae{font-weight:bold;color:#3c4043}.rEM8G{color:#70757a}.bookcf{table-layout:fixed;width:100%;border-spacing:0}.InWNIe{text-align:center}.uZgmoc{border:thin solid #dadce0;color:#70757a;font-size:14px;text-align:center;table-layout:fixed;width:100%}.frGj1b{display:block;padding:16px 0 12px 0;width:100%}.BnJWBc{text-align:center;padding:6px 0 13px 0;height:35px}.e3goi{vertical-align:top;padding:0;height:180px}.GpQGbf{margin:auto;border-collapse:collapse;border-spacing:0;width:100%}</style></head><body><style>.X6ZCif{color:#202124;font-size:11px;line-height:16px;display:inline-block;padding-top:2px;overflow:hidden;padding-bottom:4px;width:100%}.TwVfHd{border-radius:16px;border:thin solid #dadce0;display:inline-block;padding:8px 8px;margin-right:8px;margin-bottom:4px}.yekiAe{background-color:#dadce0}.jjVJ4e{width:100%}.ezO2md{border:thin solid #dadce0;padding:16px 14px 12px 14px;margin-bottom:10px;font-family:arial,sans-serif}.lIMUZd{font-family:arial,sans-serif}.RntSmf{border-spacing:0}.lgD2Tc{width:100%}.SpelHe{text-align:center}.SpelHe{position:relative}.kCmkOe{position:relative}.kCmkOe{width:162px;height:140px;line-height:140px;overflow:'hidden';text-align:center}.DS1iW{text-align:center;margin:auto;vertical-align:middle;max-width:162px;max-height:140px}.AlD19d{padding-top:2px;padding-bottom:8px;}.fYyStc{word-break:break-word}.ynsChf{display:block;white-space:nowrap;overflow:hidden;text-overflow:ellipsis}.Fj3V3b{color:#1967d2;font-size:14px;line-height:20px}.FrIlee{color:#202124;font-size:11px;line-height:16px}.F9iS2e{color:#70757a;font-size:11px;line-height:16px}.WMQ2Le{color:#70757a;font-size:12px;line-height:16px}.x3G5ab{color:#202124;font-size:12px;line-height:16px}.fuLhoc{color:#1967d2;font-size:16px;line-height:20px}.epoveb{font-size:24px;line-height:28px;font-weight:400;color:#202124}.dXDvrc{color:#0d652d;font-size:14px;line-height:20px;word-wrap:break-word}.dloBPe{font-weight:bold}.YVIcad{color:#70757a}.JkVVdd{color:#ea4335}.oXZRFd{color:#ea4335}.MQHtg{color:#fbbc04}.pyMRrb{color:#1e8e3e}.EtTZid{color:#1e8e3e}.M3vVJe{color:#1967d2}.qXLe6d{display:block}.NHQNef{font-style:italic}.Cb8Z7c{white-space:pre}a.ZWRArf{text-decoration:none}a .CVA68e:hover{text-decoration:underline}</style><div class=\"n692Zd\"><div class=\"BnJWBc\"><a class=\"lXLRf\" href=\"/?sa=x&amp;sca_esv=4bddefd64baaca21&amp;biw=136&amp;output=images&amp;ie=UTF-8&amp;tbm=isch&amp;ved=0ahUKEwiJstTwjrCIAxVJ1TgGHc-eNycQPAgC\"><img alt=\"Google\" class=\"kgJEQe\" src=\"/images/branding/searchlogo/1x/googlelogo_desk_heirloom_color_150x55dp.gif\"/></a></div><div class=\"FbhRzb\"><form action=\"/search\"><input name=\"sca_esv\" type=\"hidden\" value=\"4bddefd64baaca21\"/><input name=\"biw\" type=\"hidden\" value=\"136\"/><input name=\"ie\" type=\"hidden\" value=\"ISO-8859-1\"/><input name=\"tbm\" type=\"hidden\" value=\"isch\"/><input name=\"oq\" type=\"hidden\"/><input name=\"aqs\" type=\"hidden\"/><table class=\"cvifge\"><tr><td class=\"O4cRJf\"><input class=\"MhzMZd\" name=\"q\" type=\"text\" value=\"virat kohli\"/></td><td class=\"O1ePr\"><input class=\"xB0fq\" type=\"submit\" value=\"Search\"/></td></tr></table></form></div><div class=\"M7pB2\"><table class=\"euZec\"><tbody><tr><td><a class=\"CsQyDc\" href=\"/search?q=virat+kohli&amp;sca_esv=4bddefd64baaca21&amp;biw=136&amp;ie=UTF-8&amp;source=lnms&amp;sa=X&amp;ved=0ahUKEwiJstTwjrCIAxVJ1TgGHc-eNycQ_AUIBCgA\">ALL</a></td><td><a class=\"CsQyDc\" href=\"/search?q=virat+kohli&amp;sca_esv=4bddefd64baaca21&amp;biw=136&amp;ie=UTF-8&amp;tbm=nws&amp;source=lnms&amp;sa=X&amp;ved=0ahUKEwiJstTwjrCIAxVJ1TgGHc-eNycQ_AUIBSgB\">NEWS</a></td><td class=\"EY24We\"><span class=\"QIqI7\">IMAGES</span></td><td><a class=\"CsQyDc\" href=\"/search?q=virat+kohli&amp;sca_esv=4bddefd64baaca21&amp;biw=136&amp;ie=UTF-8&amp;tbm=vid&amp;source=lnms&amp;sa=X&amp;ved=0ahUKEwiJstTwjrCIAxVJ1TgGHc-eNycQ_AUIBygD\">VIDEOS</a></td></tr></tbody></table></div></div><div><table class=\"GpQGbf\"><tr><td align=\"center\" class=\"e3goi\"><div class=\"jjVJ4e\"> <div> <div class=\"lIMUZd\"><div><table class=\"RntSmf\"><tr><td><a href=\"/url?q=https://en.wikipedia.org/wiki/Virat_Kohli&amp;sa=U&amp;ved=2ahUKEwiJstTwjrCIAxVJ1TgGHc-eNycQqoUBegQIBRAB&amp;usg=AOvVaw1NdISkbbmR9lmGMiJss1IF\"><div class=\"kCmkOe\"><img alt=\"\" class=\"DS1iW\" src=\"https://encrypted-tbn0.gstatic.com/images?q=tbn:ANd9GcTgbKNzBeCa4aRKG8_ZSvgyH1F3Xmn1iJoQ7GGVTa0TKuVQ6PohHAZl6WPJGA&amp;s\"/></div></a></td></tr><tr><td><a href=\"/url?q=https://en.wikipedia.org/wiki/Virat_Kohli&amp;sa=U&amp;ved=2ahUKEwiJstTwjrCIAxVJ1TgGHc-eNycQr4kDegQIBRAC&amp;usg=AOvVaw1bMAV5QB-mQPB7AEmilepV\"><div class=\"AlD19d\"> <span class=\"qXLe6d x3G5ab\"> <span class=\"fYyStc\">Virat Kohli - Wikipedia</span> </span> <span class=\"qXLe6d F9iS2e\"> <span class=\"fYyStc\">en.wikipedia.org</span> </span> </div></a></td></tr></table></div></div> </div> </div></td><td align=\"center\" class=\"e3goi\"><div class=\"jjVJ4e\"> <div> <div class=\"lIMUZd\"><div><table class=\"RntSmf\"><tr><td><a href=\"/url?q=https://www.britannica.com/biography/Virat-Kohli&amp;sa=U&amp;ved=2ahUKEwiJstTwjrCIAxVJ1TgGHc-eNycQqoUBegQIExAB&amp;usg=AOvVaw1hg-dryxiGRtmCgrnVKcSP\"><div class=\"kCmkOe\"><img alt=\"\" class=\"DS1iW\" src=\"https://encrypted-tbn0.gstatic.com/images?q=tbn:ANd9GcQq8X0nLNaCzy7-IB3JuFXdBf8TU8Osb9_3kM_zz_nV_7K3F5pk8RPNXJHQB-M&amp;s\"/></div></a></td></tr><tr><td><a href=\"/url?q=https://www.britannica.com/biography/Virat-Kohli&amp;sa=U&amp;ved=2ahUKEwiJstTwjrCIAxVJ1TgGHc-eNycQr4kDegQIExAC&amp;usg=AOvVaw1WGiHlBPI4IX1yaHsrk_r3\"><div class=\"AlD19d\"> <span class=\"qXLe6d x3G5ab\"> <span class=\"fYyStc\">Virat Kohli | Life, Career,...</span> </span> <span class=\"qXLe6d F9iS2e\"> <span class=\"fYyStc\">www.britannica.com</span> </span> </div></a></td></tr></table></div></div> </div> </div></td><td align=\"center\" class=\"e3goi\"><div class=\"jjVJ4e\"> <div> <div class=\"lIMUZd\"><div><table class=\"RntSmf\"><tr><td><a href=\"/url?q=https://www.iplt20.com/teams/royal-challengers-bengaluru/squad-details/164&amp;sa=U&amp;ved=2ahUKEwiJstTwjrCIAxVJ1TgGHc-eNycQqoUBegQIEhAB&amp;usg=AOvVaw2MbGnVEKotri5fp3i6jmiR\"><div class=\"kCmkOe\"><img alt=\"\" class=\"DS1iW\" src=\"https://encrypted-tbn0.gstatic.com/images?q=tbn:ANd9GcTm-Qq6or-Qj64j8Ew3lskOFjKOGgu9Ndx6z7w3vvPr-4LYCijPsJg5_O8oZw&amp;s\"/></div></a></td></tr><tr><td><a href=\"/url?q=https://www.iplt20.com/teams/royal-challengers-bengaluru/squad-details/164&amp;sa=U&amp;ved=2ahUKEwiJstTwjrCIAxVJ1TgGHc-eNycQr4kDegQIEhAC&amp;usg=AOvVaw0Xk7iZCTEZhrFVTW6W5p3t\"><div class=\"AlD19d\"> <span class=\"qXLe6d x3G5ab\"> <span class=\"fYyStc\">IPL 2024 | Royal...</span> </span> <span class=\"qXLe6d F9iS2e\"> <span class=\"fYyStc\">www.iplt20.com</span> </span> </div></a></td></tr></table></div></div> </div> </div></td><td align=\"center\" class=\"e3goi\"><div class=\"jjVJ4e\"> <div> <div class=\"lIMUZd\"><div><table class=\"RntSmf\"><tr><td><a href=\"/url?q=https://www.hindustantimes.com/cricket/players/virat-kohli-3993&amp;sa=U&amp;ved=2ahUKEwiJstTwjrCIAxVJ1TgGHc-eNycQqoUBegQIEBAB&amp;usg=AOvVaw1FCw65c5YC_bae05GT8Sus\"><div class=\"kCmkOe\"><img alt=\"\" class=\"DS1iW\" src=\"https://encrypted-tbn0.gstatic.com/images?q=tbn:ANd9GcTSXAAowoe0NgqE0pqClijI-yiRHh6rTGtVdCFlASGdLbACDc387hCvU2vNDg&amp;s\"/></div></a></td></tr><tr><td><a href=\"/url?q=https://www.hindustantimes.com/cricket/players/virat-kohli-3993&amp;sa=U&amp;ved=2ahUKEwiJstTwjrCIAxVJ1TgGHc-eNycQr4kDegQIEBAC&amp;usg=AOvVaw0ot0bvc9wAgNIAjDGiCPwr\"><div class=\"AlD19d\"> <span class=\"qXLe6d x3G5ab\"> <span class=\"fYyStc\">Virat Kohli Profile - Virat...</span> </span> <span class=\"qXLe6d F9iS2e\"> <span class=\"fYyStc\">www.hindustantimes.com</span> </span> </div></a></td></tr></table></div></div> </div> </div></td></tr><tr><td align=\"center\" class=\"e3goi\"><div class=\"jjVJ4e\"> <div> <div class=\"lIMUZd\"><div><table class=\"RntSmf\"><tr><td><a href=\"/url?q=https://sports.ndtv.com/cricket/virat-kohli-placed-at-bottom-of-fab-four-by-8-time-world-cup-winner-heres-why-6505808&amp;sa=U&amp;ved=2ahUKEwiJstTwjrCIAxVJ1TgGHc-eNycQqoUBegQIERAB&amp;usg=AOvVaw29nX2fOwbWI--kNYqjc5FM\"><div class=\"kCmkOe\"><img alt=\"\" class=\"DS1iW\" src=\"https://encrypted-tbn0.gstatic.com/images?q=tbn:ANd9GcTxYclFp4jzz8y88X1og7M92Dfbbu1zQQPgGUBUCU0H2Gzfk2GS6DekRw4NNQ&amp;s\"/></div></a></td></tr><tr><td><a href=\"/url?q=https://sports.ndtv.com/cricket/virat-kohli-placed-at-bottom-of-fab-four-by-8-time-world-cup-winner-heres-why-6505808&amp;sa=U&amp;ved=2ahUKEwiJstTwjrCIAxVJ1TgGHc-eNycQr4kDegQIERAC&amp;usg=AOvVaw1EiyuIE-IrOzZcpR_1b9Wq\"><div class=\"AlD19d\"> <span class=\"qXLe6d x3G5ab\"> <span class=\"fYyStc\">Virat Kohli Placed At...</span> </span> <span class=\"qXLe6d F9iS2e\"> <span class=\"fYyStc\">sports.ndtv.com</span> </span> </div></a></td></tr></table></div></div> </div> </div></td><td align=\"center\" class=\"e3goi\"><div class=\"jjVJ4e\"> <div> <div class=\"lIMUZd\"><div><table class=\"RntSmf\"><tr><td><a href=\"/url?q=https://www.indiatoday.in/sports/cricket/story/curtly-ambrose-picks-virat-kohli-among-batters-he-would-love-to-bowl-against-2594756-2024-09-06&amp;sa=U&amp;ved=2ahUKEwiJstTwjrCIAxVJ1TgGHc-eNycQqoUBegQIDhAB&amp;usg=AOvVaw1oMugk68EsdLWfF4j-ju8t\"><div class=\"kCmkOe\"><img alt=\"\" class=\"DS1iW\" src=\"https://encrypted-tbn0.gstatic.com/images?q=tbn:ANd9GcRvlY9AaqF-5P6k4nGPt-6mIi6YKsgAmFxF2S5_KJdZNo4wKHJqZrPWsan2Sw&amp;s\"/></div></a></td></tr><tr><td><a href=\"/url?q=https://www.indiatoday.in/sports/cricket/story/curtly-ambrose-picks-virat-kohli-among-batters-he-would-love-to-bowl-against-2594756-2024-09-06&amp;sa=U&amp;ved=2ahUKEwiJstTwjrCIAxVJ1TgGHc-eNycQr4kDegQIDhAC&amp;usg=AOvVaw35o2FzAbsGLThAWwt93MBb\"><div class=\"AlD19d\"> <span class=\"qXLe6d x3G5ab\"> <span class=\"fYyStc\">Curtly Ambrose picks Virat...</span> </span> <span class=\"qXLe6d F9iS2e\"> <span class=\"fYyStc\">www.indiatoday.in</span> </span> </div></a></td></tr></table></div></div> </div> </div></td><td align=\"center\" class=\"e3goi\"><div class=\"jjVJ4e\"> <div> <div class=\"lIMUZd\"><div><table class=\"RntSmf\"><tr><td><a href=\"/url?q=https://www.espncricinfo.com/cricketers/virat-kohli-253802&amp;sa=U&amp;ved=2ahUKEwiJstTwjrCIAxVJ1TgGHc-eNycQqoUBegQIDRAB&amp;usg=AOvVaw1kAcOoa4Ykf8v5GteHyvSg\"><div class=\"kCmkOe\"><img alt=\"\" class=\"DS1iW\" src=\"https://encrypted-tbn0.gstatic.com/images?q=tbn:ANd9GcTjRYXqKpwxHkFa9Vz7wH-dkSRYDx0WPwGY5PpsmMSy5DETP_ts5F9K5Hf9qw&amp;s\"/></div></a></td></tr><tr><td><a href=\"/url?q=https://www.espncricinfo.com/cricketers/virat-kohli-253802&amp;sa=U&amp;ved=2ahUKEwiJstTwjrCIAxVJ1TgGHc-eNycQr4kDegQIDRAC&amp;usg=AOvVaw07QbdUqSsL8oWdB9lFHopO\"><div class=\"AlD19d\"> <span class=\"qXLe6d x3G5ab\"> <span class=\"fYyStc\">Virat Kohli Profile -...</span> </span> <span class=\"qXLe6d F9iS2e\"> <span class=\"fYyStc\">www.espncricinfo.com</span> </span> </div></a></td></tr></table></div></div> </div> </div></td><td align=\"center\" class=\"e3goi\"><div class=\"jjVJ4e\"> <div> <div class=\"lIMUZd\"><div><table class=\"RntSmf\"><tr><td><a href=\"/url?q=https://www.livemint.com/sports/cricket-news/virat-kohli-ms-dhoni-taxpayers-cricket-rishabh-pant-sourav-ganguly-amitabh-bachchan-salman-khan-shah-rukh-khan-11725511258079.html&amp;sa=U&amp;ved=2ahUKEwiJstTwjrCIAxVJ1TgGHc-eNycQqoUBegQICRAB&amp;usg=AOvVaw2OGCvCvSI_lW5haIAaJdSq\"><div class=\"kCmkOe\"><img alt=\"\" class=\"DS1iW\" src=\"https://encrypted-tbn0.gstatic.com/images?q=tbn:ANd9GcQa2CNWjpIsSwgOKd_K7bCUn0NacouIaBB_VYa5uKBhqo8JyqfXvgh03sGZ8Q0&amp;s\"/></div></a></td></tr><tr><td><a href=\"/url?q=https://www.livemint.com/sports/cricket-news/virat-kohli-ms-dhoni-taxpayers-cricket-rishabh-pant-sourav-ganguly-amitabh-bachchan-salman-khan-shah-rukh-khan-11725511258079.html&amp;sa=U&amp;ved=2ahUKEwiJstTwjrCIAxVJ1TgGHc-eNycQr4kDegQICRAC&amp;usg=AOvVaw0t8nF9WwfdArUymjr6IX7c\"><div class=\"AlD19d\"> <span class=\"qXLe6d x3G5ab\"> <span class=\"fYyStc\">Kohli, Dhoni highest...</span> </span> <span class=\"qXLe6d F9iS2e\"> <span class=\"fYyStc\">www.livemint.com</span> </span> </div></a></td></tr></table></div></div> </div> </div></td></tr><tr><td align=\"center\" class=\"e3goi\"><div class=\"jjVJ4e\"> <div> <div class=\"lIMUZd\"><div><table class=\"RntSmf\"><tr><td><a href=\"/url?q=https://www.deccanherald.com/ampstories/lifestyle/fashion/virat-kohlis-new-look-set-the-internet-on-fire-2943091&amp;sa=U&amp;ved=2ahUKEwiJstTwjrCIAxVJ1TgGHc-eNycQqoUBegQIDxAB&amp;usg=AOvVaw13kpo51Url4Ev42xgfqCaL\"><div class=\"kCmkOe\"><img alt=\"\" class=\"DS1iW\" src=\"https://encrypted-tbn0.gstatic.com/images?q=tbn:ANd9GcQT5IoMXUQCHhtZPp9KfonIJmsBc_tLgREuWeTZfe8lwhGmMSsMPb3m9lHLbME&amp;s\"/></div></a></td></tr><tr><td><a href=\"/url?q=https://www.deccanherald.com/ampstories/lifestyle/fashion/virat-kohlis-new-look-set-the-internet-on-fire-2943091&amp;sa=U&amp;ved=2ahUKEwiJstTwjrCIAxVJ1TgGHc-eNycQr4kDegQIDxAC&amp;usg=AOvVaw3wvZyqBSAY_RJqQGZ05m2P\"><div class=\"AlD19d\"> <span class=\"qXLe6d x3G5ab\"> <span class=\"fYyStc\">Virat Kohli's new look sets...</span> </span> <span class=\"qXLe6d F9iS2e\"> <span class=\"fYyStc\">www.deccanherald.com</span> </span> </div></a></td></tr></table></div></div> </div> </div></td><td align=\"center\" class=\"e3goi\"><div class=\"jjVJ4e\"> <div> <div class=\"lIMUZd\"><div><table class=\"RntSmf\"><tr><td><a href=\"/url?q=https://pixels.com/featured/virat-kohli-wallpaper-vinay-sainath.html&amp;sa=U&amp;ved=2ahUKEwiJstTwjrCIAxVJ1TgGHc-eNycQqoUBegQICxAB&amp;usg=AOvVaw21GYUl7WPZaKGEQAsTdAxZ\"><div class=\"kCmkOe\"><img alt=\"\" class=\"DS1iW\" src=\"https://encrypted-tbn0.gstatic.com/images?q=tbn:ANd9GcQNUWOZ8VgIi07IPeHja43tha_xQVp_w3EgXv3sC8182fn8P0xnMF-sOiAke54&amp;s\"/></div></a></td></tr><tr><td><a href=\"/url?q=https://pixels.com/featured/virat-kohli-wallpaper-vinay-sainath.html&amp;sa=U&amp;ved=2ahUKEwiJstTwjrCIAxVJ1TgGHc-eNycQr4kDegQICxAC&amp;usg=AOvVaw3XJ8F8nCBmfULEAKZdcYr7\"><div class=\"AlD19d\"> <span class=\"qXLe6d x3G5ab\"> <span class=\"fYyStc\">Virat Kohli Wallpaper...</span> </span> <span class=\"qXLe6d F9iS2e\"> <span class=\"fYyStc\">pixels.com</span> </span> </div></a></td></tr></table></div></div> </div> </div></td><td align=\"center\" class=\"e3goi\"><div class=\"jjVJ4e\"> <div> <div class=\"lIMUZd\"><div><table class=\"RntSmf\"><tr><td><a href=\"/url?q=https://www.peakpx.com/en/hd-wallpaper-desktop-eyfhp&amp;sa=U&amp;ved=2ahUKEwiJstTwjrCIAxVJ1TgGHc-eNycQqoUBegQIDBAB&amp;usg=AOvVaw2pmATb5ZtYdVyfRVrq3q0m\"><div class=\"kCmkOe\"><img alt=\"\" class=\"DS1iW\" src=\"https://encrypted-tbn0.gstatic.com/images?q=tbn:ANd9GcTAhGYuUZ0_tYD91NZEq9vqlLeKCFmlKO2NgicPOv7azIKvCgTcpqPE2RhxE2o&amp;s\"/></div></a></td></tr><tr><td><a href=\"/url?q=https://www.peakpx.com/en/hd-wallpaper-desktop-eyfhp&amp;sa=U&amp;ved=2ahUKEwiJstTwjrCIAxVJ1TgGHc-eNycQr4kDegQIDBAC&amp;usg=AOvVaw2e_urqG8JQRB3qxiFOmyKK\"><div class=\"AlD19d\"> <span class=\"qXLe6d x3G5ab\"> <span class=\"fYyStc\">Virat Kohli Batting, virat...</span> </span> <span class=\"qXLe6d F9iS2e\"> <span class=\"fYyStc\">www.peakpx.com</span> </span> </div></a></td></tr></table></div></div> </div> </div></td><td align=\"center\" class=\"e3goi\"><div class=\"jjVJ4e\"> <div> <div class=\"lIMUZd\"><div><table class=\"RntSmf\"><tr><td><a href=\"/url?q=https://www.business-standard.com/about/who-is-virat-kohli&amp;sa=U&amp;ved=2ahUKEwiJstTwjrCIAxVJ1TgGHc-eNycQqoUBegQIChAB&amp;usg=AOvVaw0j1HKrfrtqrPb5pgRwqRaa\"><div class=\"kCmkOe\"><img alt=\"\" class=\"DS1iW\" src=\"https://encrypted-tbn0.gstatic.com/images?q=tbn:ANd9GcR4H1tODU7ci3j_sZPAsa3IwCtShkuOoQJwuatTyxpI9ELu0MkurKMtiH2q2p0&amp;s\"/></div></a></td></tr><tr><td><a href=\"/url?q=https://www.business-standard.com/about/who-is-virat-kohli&amp;sa=U&amp;ved=2ahUKEwiJstTwjrCIAxVJ1TgGHc-eNycQr4kDegQIChAC&amp;usg=AOvVaw3qxgMXE8j4ArWG4vRD9wia\"><div class=\"AlD19d\"> <span class=\"qXLe6d x3G5ab\"> <span class=\"fYyStc\">Virat Kohli | Latest News...</span> </span> <span class=\"qXLe6d F9iS2e\"> <span class=\"fYyStc\">www.business-standard.com</span> </span> </div></a></td></tr></table></div></div> </div> </div></td></tr><tr><td align=\"center\" class=\"e3goi\"><div class=\"jjVJ4e\"> <div> <div class=\"lIMUZd\"><div><table class=\"RntSmf\"><tr><td><a href=\"/url?q=https://www.news18.com/cricket/virat-kohli-pays-income-tax-equal-to-ms-dhoni-and-sachin-tendulkar-combined-see-list-of-highest-tax-paying-cricketers-9039473.html&amp;sa=U&amp;ved=2ahUKEwiJstTwjrCIAxVJ1TgGHc-eNycQqoUBegQIBhAB&amp;usg=AOvVaw3MizlzEVdXR8NVPzCd2YDb\"><div class=\"kCmkOe\"><img alt=\"\" class=\"DS1iW\" src=\"https://encrypted-tbn0.gstatic.com/images?q=tbn:ANd9GcRHm2tw8SF9mL6mS06IWxGSBWtZ0sRLjBIHKPRc9IC3YA4UiPPWFyfrLn0ZuqM&amp;s\"/></div></a></td></tr><tr><td><a href=\"/url?q=https://www.news18.com/cricket/virat-kohli-pays-income-tax-equal-to-ms-dhoni-and-sachin-tendulkar-combined-see-list-of-highest-tax-paying-cricketers-9039473.html&amp;sa=U&amp;ved=2ahUKEwiJstTwjrCIAxVJ1TgGHc-eNycQr4kDegQIBhAC&amp;usg=AOvVaw0t6udGm6eX47DeBHNeZkQH\"><div class=\"AlD19d\"> <span class=\"qXLe6d x3G5ab\"> <span class=\"fYyStc\">Virat Kohli Pays Income Tax...</span> </span> <span class=\"qXLe6d F9iS2e\"> <span class=\"fYyStc\">www.news18.com</span> </span> </div></a></td></tr></table></div></div> </div> </div></td><td align=\"center\" class=\"e3goi\"><div class=\"jjVJ4e\"> <div> <div class=\"lIMUZd\"><div><table class=\"RntSmf\"><tr><td><a href=\"/url?q=https://simple.wikipedia.org/wiki/Virat_Kohli&amp;sa=U&amp;ved=2ahUKEwiJstTwjrCIAxVJ1TgGHc-eNycQqoUBegQIBBAB&amp;usg=AOvVaw3jm-0gx2PilvEnfeci01r2\"><div class=\"kCmkOe\"><img alt=\"\" class=\"DS1iW\" src=\"https://encrypted-tbn0.gstatic.com/images?q=tbn:ANd9GcTIozrd1mZMyYfKHdy2s65qL6vhqvtNKc99xuAw9pPMPe0arSm3qqZ4WaDAqD8&amp;s\"/></div></a></td></tr><tr><td><a href=\"/url?q=https://simple.wikipedia.org/wiki/Virat_Kohli&amp;sa=U&amp;ved=2ahUKEwiJstTwjrCIAxVJ1TgGHc-eNycQr4kDegQIBBAC&amp;usg=AOvVaw3GPGrVAMG7-boRxhzjIL-h\"><div class=\"AlD19d\"> <span class=\"qXLe6d x3G5ab\"> <span class=\"fYyStc\">Virat Kohli - Simple...</span> </span> <span class=\"qXLe6d F9iS2e\"> <span class=\"fYyStc\">simple.wikipedia.org</span> </span> </div></a></td></tr></table></div></div> </div> </div></td><td align=\"center\" class=\"e3goi\"><div class=\"jjVJ4e\"> <div> <div class=\"lIMUZd\"><div><table class=\"RntSmf\"><tr><td><a href=\"/url?q=https://www.indiatoday.in/sports/cricket/story/ipl-2024-gt-vs-rcb-virat-kohli-slams-critics-strike-rate-t20-world-cup-2024-2532773-2024-04-28&amp;sa=U&amp;ved=2ahUKEwiJstTwjrCIAxVJ1TgGHc-eNycQqoUBegQIAhAB&amp;usg=AOvVaw2siEwf0vpEbKDWq7eiPuAK\"><div class=\"kCmkOe\"><img alt=\"\" class=\"DS1iW\" src=\"https://encrypted-tbn0.gstatic.com/images?q=tbn:ANd9GcRBhuQCr9pheQ5T5KPeXG2tpAHS6hK4bbB87W2S1hghTQWoQ2b4uYtPuHj6QA&amp;s\"/></div></a></td></tr><tr><td><a href=\"/url?q=https://www.indiatoday.in/sports/cricket/story/ipl-2024-gt-vs-rcb-virat-kohli-slams-critics-strike-rate-t20-world-cup-2024-2532773-2024-04-28&amp;sa=U&amp;ved=2ahUKEwiJstTwjrCIAxVJ1TgGHc-eNycQr4kDegQIAhAC&amp;usg=AOvVaw1EN2ZGEpohQDdS1a0iGWG-\"><div class=\"AlD19d\"> <span class=\"qXLe6d x3G5ab\"> <span class=\"fYyStc\">Chest-thumping Virat Kohli...</span> </span> <span class=\"qXLe6d F9iS2e\"> <span class=\"fYyStc\">www.indiatoday.in</span> </span> </div></a></td></tr></table></div></div> </div> </div></td><td align=\"center\" class=\"e3goi\"><div class=\"jjVJ4e\"> <div> <div class=\"lIMUZd\"><div><table class=\"RntSmf\"><tr><td><a href=\"/url?q=https://bharatkagyan.com/ro/cricket-player-virat-kohli-contact-details/&amp;sa=U&amp;ved=2ahUKEwiJstTwjrCIAxVJ1TgGHc-eNycQqoUBegQIABAB&amp;usg=AOvVaw09URKfdxLk1GyhI4QK2rPC\"><div class=\"kCmkOe\"><img alt=\"\" class=\"DS1iW\" src=\"https://encrypted-tbn0.gstatic.com/images?q=tbn:ANd9GcTNQjNCQKnwDyFV5CNk33ea76qUqVpebZmD93dO6oX23gu1pozd2k5GSan7Jo0&amp;s\"/></div></a></td></tr><tr><td><a href=\"/url?q=https://bharatkagyan.com/ro/cricket-player-virat-kohli-contact-details/&amp;sa=U&amp;ved=2ahUKEwiJstTwjrCIAxVJ1TgGHc-eNycQr4kDegQIABAC&amp;usg=AOvVaw0mPJfnUbBAgF9r4a-LxmEf\"><div class=\"AlD19d\"> <span class=\"qXLe6d x3G5ab\"> <span class=\"fYyStc\">Cricket Player Virat Kohli...</span> </span> <span class=\"qXLe6d F9iS2e\"> <span class=\"fYyStc\">bharatkagyan.com</span> </span> </div></a></td></tr></table></div></div> </div> </div></td></tr><tr><td align=\"center\" class=\"e3goi\"><div class=\"jjVJ4e\"> <div> <div class=\"lIMUZd\"><div><table class=\"RntSmf\"><tr><td><a href=\"/url?q=https://www.mykhel.com/cricket/players/virat-kohli-p3788/&amp;sa=U&amp;ved=2ahUKEwiJstTwjrCIAxVJ1TgGHc-eNycQqoUBegQIARAB&amp;usg=AOvVaw3aUh8T18HWxEKp6QLbt1LE\"><div class=\"kCmkOe\"><img alt=\"\" class=\"DS1iW\" src=\"https://encrypted-tbn0.gstatic.com/images?q=tbn:ANd9GcRq3NHMSdgjCeyMqffhL4ldmLS2_xH6S35DJydAi5VR7Pf5i7DfgXNhYxoHUg&amp;s\"/></div></a></td></tr><tr><td><a href=\"/url?q=https://www.mykhel.com/cricket/players/virat-kohli-p3788/&amp;sa=U&amp;ved=2ahUKEwiJstTwjrCIAxVJ1TgGHc-eNycQr4kDegQIARAC&amp;usg=AOvVaw3Jo9DBIVDg5lzTPolmAnkv\"><div class=\"AlD19d\"> <span class=\"qXLe6d x3G5ab\"> <span class=\"fYyStc\">Virat Kohli Profile: Age,...</span> </span> <span class=\"qXLe6d F9iS2e\"> <span class=\"fYyStc\">www.mykhel.com</span> </span> </div></a></td></tr></table></div></div> </div> </div></td><td align=\"center\" class=\"e3goi\"><div class=\"jjVJ4e\"> <div> <div class=\"lIMUZd\"><div><table class=\"RntSmf\"><tr><td><a href=\"/url?q=https://sports.ndtv.com/cricket/ex-pakistan-captain-reacts-after-being-trolled-for-congratulating-rohit-sharma-virat-kohli-on-t20-world-cup-6500501&amp;sa=U&amp;ved=2ahUKEwiJstTwjrCIAxVJ1TgGHc-eNycQqoUBegQIAxAB&amp;usg=AOvVaw1Q7QX3mOtMl1XzX4hhbDs7\"><div class=\"kCmkOe\"><img alt=\"\" class=\"DS1iW\" src=\"https://encrypted-tbn0.gstatic.com/images?q=tbn:ANd9GcRkyFYjdNoXTUul4CSXWPv_CXhO_ZVMe783PHHvJiHy_FYAyPuxqcLfbZLJlRQ&amp;s\"/></div></a></td></tr><tr><td><a href=\"/url?q=https://sports.ndtv.com/cricket/ex-pakistan-captain-reacts-after-being-trolled-for-congratulating-rohit-sharma-virat-kohli-on-t20-world-cup-6500501&amp;sa=U&amp;ved=2ahUKEwiJstTwjrCIAxVJ1TgGHc-eNycQr4kDegQIAxAC&amp;usg=AOvVaw1m0ycJ4kgHdh9uS5IGC8QS\"><div class=\"AlD19d\"> <span class=\"qXLe6d x3G5ab\"> <span class=\"fYyStc\">Ex-Pakistan Captain,...</span> </span> <span class=\"qXLe6d F9iS2e\"> <span class=\"fYyStc\">sports.ndtv.com</span> </span> </div></a></td></tr></table></div></div> </div> </div></td><td align=\"center\" class=\"e3goi\"><div class=\"jjVJ4e\"> <div> <div class=\"lIMUZd\"><div><table class=\"RntSmf\"><tr><td><a href=\"/url?q=https://timesofindia.indiatimes.com/sports/cricket/news/bowling-to-virat-kohli-is-a-dream-for-this-west-indies-legend/articleshow/113109331.cms&amp;sa=U&amp;ved=2ahUKEwiJstTwjrCIAxVJ1TgGHc-eNycQqoUBegQIBxAB&amp;usg=AOvVaw09c-K_FvFmPfgEh1Vu5TQo\"><div class=\"kCmkOe\"><img alt=\"\" class=\"DS1iW\" src=\"https://encrypted-tbn0.gstatic.com/images?q=tbn:ANd9GcQD3w6C-C9_85ErImnxE3ItMtq4um--qPusoNqw6AKi-zTpUao2RCq8EqmXAVM&amp;s\"/></div></a></td></tr><tr><td><a href=\"/url?q=https://timesofindia.indiatimes.com/sports/cricket/news/bowling-to-virat-kohli-is-a-dream-for-this-west-indies-legend/articleshow/113109331.cms&amp;sa=U&amp;ved=2ahUKEwiJstTwjrCIAxVJ1TgGHc-eNycQr4kDegQIBxAC&amp;usg=AOvVaw2ybmlvNTpdPDnkEjtSBzOg\"><div class=\"AlD19d\"> <span class=\"qXLe6d x3G5ab\"> <span class=\"fYyStc\">Bowling to Virat Kohli is a...</span> </span> <span class=\"qXLe6d F9iS2e\"> <span class=\"fYyStc\">timesofindia.indiatimes.com...</span> </span> </div></a></td></tr></table></div></div> </div> </div></td><td align=\"center\" class=\"e3goi\"><div class=\"jjVJ4e\"> <div> <div class=\"lIMUZd\"><div><table class=\"RntSmf\"><tr><td><a href=\"/url?q=https://www.hindustantimes.com/cricket/virat-kohli-questioned-whether-he-is-good-enough-told-youll-shame-yourself-if-you-dont-score-10-000-test-runs-101725302167656.html&amp;sa=U&amp;ved=2ahUKEwiJstTwjrCIAxVJ1TgGHc-eNycQqoUBegQICBAB&amp;usg=AOvVaw0RCusWIHDaPIux3DiXY6_H\"><div class=\"kCmkOe\"><img alt=\"\" class=\"DS1iW\" src=\"https://encrypted-tbn0.gstatic.com/images?q=tbn:ANd9GcR_teVKXBajt2KNK8R1okfni3yEWrl8XHOm2ewH6M2T4ClEtYit55UTdUj89w&amp;s\"/></div></a></td></tr><tr><td><a href=\"/url?q=https://www.hindustantimes.com/cricket/virat-kohli-questioned-whether-he-is-good-enough-told-youll-shame-yourself-if-you-dont-score-10-000-test-runs-101725302167656.html&amp;sa=U&amp;ved=2ahUKEwiJstTwjrCIAxVJ1TgGHc-eNycQr4kDegQICBAC&amp;usg=AOvVaw1jJwUyU5CVPBD2rBUm_cz7\"><div class=\"AlD19d\"> <span class=\"qXLe6d x3G5ab\"> <span class=\"fYyStc\">Virat Kohli questioned...</span> </span> <span class=\"qXLe6d F9iS2e\"> <span class=\"fYyStc\">www.hindustantimes.com</span> </span> </div></a></td></tr></table></div></div> </div> </div></td></tr></table></div><table class=\"uZgmoc\"><tbody><td><a class=\"frGj1b\" href=\"/search?q=virat+kohli&amp;sca_esv=4bddefd64baaca21&amp;biw=136&amp;ie=UTF-8&amp;tbm=isch&amp;ei=xubbZom3Ccmq4-EPz73euQI&amp;start=20&amp;sa=N\">Next &gt;</a></td></tbody></table><br/><div class=\"TuS8Ad\" data-ved=\"0ahUKEwiJstTwjrCIAxVJ1TgGHc-eNycQpyoIRQ\"><style>.VYM29{font-weight:bold}</style><div align=\"center\" class=\"HddGcc\"><span class=\"VYM29\">490020, Bhilai, Chhattisgarh</span><span> - </span><span>From your IP address</span><span> - </span><a href=\"/url?q=https://support.google.com/websearch%3Fp%3Dws_settings_location%26hl%3Den-IN&amp;opi=89978449&amp;sa=U&amp;ved=0ahUKEwiJstTwjrCIAxVJ1TgGHc-eNycQty4IRg&amp;usg=AOvVaw1D6OdZJu2Do8k3JzZboEao\">Learn more</a></div><div align=\"center\"><a class=\"rEM8G\" href=\"/url?q=https://accounts.google.com/ServiceLogin%3Fcontinue%3Dhttps://www.google.com/search%253Fq%253Dvirat%252Bkohli%2526source%253Dlnms%2526sa%253Dx%2526ved%253D2ahUKEwjv8tyTyft-AhWibmwGHfNoC1cQAUoAXoECAEQAw%2526biw%253D136%2526tbm%253Disch%26hl%3Den&amp;opi=89978449&amp;sa=U&amp;ved=0ahUKEwiJstTwjrCIAxVJ1TgGHc-eNycQxs8CCEc&amp;usg=AOvVaw02_E3J_9aWMMUpqLsCHgwa\">Sign in</a></div><div><table class=\"bookcf\"><tbody class=\"InWNIe\"><tr><td><a class=\"rEM8G\" href=\"https://www.google.com/preferences?hl=en&amp;sa=X&amp;ved=0ahUKEwiJstTwjrCIAxVJ1TgGHc-eNycQv5YECEg\">Settings</a></td><td><a class=\"rEM8G\" href=\"https://www.google.com/intl/en_in/policies/privacy/\">Privacy</a></td><td><a class=\"rEM8G\" href=\"https://www.google.com/intl/en_in/policies/terms/\">Terms</a></td></tr></tbody></table></div></div><div> </div></body></html>"
      ]
     },
     "execution_count": 7,
     "metadata": {},
     "output_type": "execute_result"
    }
   ],
   "source": [
    "Soup"
   ]
  },
  {
   "cell_type": "code",
   "execution_count": 8,
   "id": "9efaf1ba",
   "metadata": {},
   "outputs": [],
   "source": [
    "images_tags = Soup.find_all(\"img\")"
   ]
  },
  {
   "cell_type": "code",
   "execution_count": 9,
   "id": "23f63c52",
   "metadata": {},
   "outputs": [
    {
     "data": {
      "text/plain": [
       "[<img alt=\"Google\" class=\"kgJEQe\" src=\"/images/branding/searchlogo/1x/googlelogo_desk_heirloom_color_150x55dp.gif\"/>,\n",
       " <img alt=\"\" class=\"DS1iW\" src=\"https://encrypted-tbn0.gstatic.com/images?q=tbn:ANd9GcTgbKNzBeCa4aRKG8_ZSvgyH1F3Xmn1iJoQ7GGVTa0TKuVQ6PohHAZl6WPJGA&amp;s\"/>,\n",
       " <img alt=\"\" class=\"DS1iW\" src=\"https://encrypted-tbn0.gstatic.com/images?q=tbn:ANd9GcQq8X0nLNaCzy7-IB3JuFXdBf8TU8Osb9_3kM_zz_nV_7K3F5pk8RPNXJHQB-M&amp;s\"/>,\n",
       " <img alt=\"\" class=\"DS1iW\" src=\"https://encrypted-tbn0.gstatic.com/images?q=tbn:ANd9GcTm-Qq6or-Qj64j8Ew3lskOFjKOGgu9Ndx6z7w3vvPr-4LYCijPsJg5_O8oZw&amp;s\"/>,\n",
       " <img alt=\"\" class=\"DS1iW\" src=\"https://encrypted-tbn0.gstatic.com/images?q=tbn:ANd9GcTSXAAowoe0NgqE0pqClijI-yiRHh6rTGtVdCFlASGdLbACDc387hCvU2vNDg&amp;s\"/>,\n",
       " <img alt=\"\" class=\"DS1iW\" src=\"https://encrypted-tbn0.gstatic.com/images?q=tbn:ANd9GcTxYclFp4jzz8y88X1og7M92Dfbbu1zQQPgGUBUCU0H2Gzfk2GS6DekRw4NNQ&amp;s\"/>,\n",
       " <img alt=\"\" class=\"DS1iW\" src=\"https://encrypted-tbn0.gstatic.com/images?q=tbn:ANd9GcRvlY9AaqF-5P6k4nGPt-6mIi6YKsgAmFxF2S5_KJdZNo4wKHJqZrPWsan2Sw&amp;s\"/>,\n",
       " <img alt=\"\" class=\"DS1iW\" src=\"https://encrypted-tbn0.gstatic.com/images?q=tbn:ANd9GcTjRYXqKpwxHkFa9Vz7wH-dkSRYDx0WPwGY5PpsmMSy5DETP_ts5F9K5Hf9qw&amp;s\"/>,\n",
       " <img alt=\"\" class=\"DS1iW\" src=\"https://encrypted-tbn0.gstatic.com/images?q=tbn:ANd9GcQa2CNWjpIsSwgOKd_K7bCUn0NacouIaBB_VYa5uKBhqo8JyqfXvgh03sGZ8Q0&amp;s\"/>,\n",
       " <img alt=\"\" class=\"DS1iW\" src=\"https://encrypted-tbn0.gstatic.com/images?q=tbn:ANd9GcQT5IoMXUQCHhtZPp9KfonIJmsBc_tLgREuWeTZfe8lwhGmMSsMPb3m9lHLbME&amp;s\"/>,\n",
       " <img alt=\"\" class=\"DS1iW\" src=\"https://encrypted-tbn0.gstatic.com/images?q=tbn:ANd9GcQNUWOZ8VgIi07IPeHja43tha_xQVp_w3EgXv3sC8182fn8P0xnMF-sOiAke54&amp;s\"/>,\n",
       " <img alt=\"\" class=\"DS1iW\" src=\"https://encrypted-tbn0.gstatic.com/images?q=tbn:ANd9GcTAhGYuUZ0_tYD91NZEq9vqlLeKCFmlKO2NgicPOv7azIKvCgTcpqPE2RhxE2o&amp;s\"/>,\n",
       " <img alt=\"\" class=\"DS1iW\" src=\"https://encrypted-tbn0.gstatic.com/images?q=tbn:ANd9GcR4H1tODU7ci3j_sZPAsa3IwCtShkuOoQJwuatTyxpI9ELu0MkurKMtiH2q2p0&amp;s\"/>,\n",
       " <img alt=\"\" class=\"DS1iW\" src=\"https://encrypted-tbn0.gstatic.com/images?q=tbn:ANd9GcRHm2tw8SF9mL6mS06IWxGSBWtZ0sRLjBIHKPRc9IC3YA4UiPPWFyfrLn0ZuqM&amp;s\"/>,\n",
       " <img alt=\"\" class=\"DS1iW\" src=\"https://encrypted-tbn0.gstatic.com/images?q=tbn:ANd9GcTIozrd1mZMyYfKHdy2s65qL6vhqvtNKc99xuAw9pPMPe0arSm3qqZ4WaDAqD8&amp;s\"/>,\n",
       " <img alt=\"\" class=\"DS1iW\" src=\"https://encrypted-tbn0.gstatic.com/images?q=tbn:ANd9GcRBhuQCr9pheQ5T5KPeXG2tpAHS6hK4bbB87W2S1hghTQWoQ2b4uYtPuHj6QA&amp;s\"/>,\n",
       " <img alt=\"\" class=\"DS1iW\" src=\"https://encrypted-tbn0.gstatic.com/images?q=tbn:ANd9GcTNQjNCQKnwDyFV5CNk33ea76qUqVpebZmD93dO6oX23gu1pozd2k5GSan7Jo0&amp;s\"/>,\n",
       " <img alt=\"\" class=\"DS1iW\" src=\"https://encrypted-tbn0.gstatic.com/images?q=tbn:ANd9GcRq3NHMSdgjCeyMqffhL4ldmLS2_xH6S35DJydAi5VR7Pf5i7DfgXNhYxoHUg&amp;s\"/>,\n",
       " <img alt=\"\" class=\"DS1iW\" src=\"https://encrypted-tbn0.gstatic.com/images?q=tbn:ANd9GcRkyFYjdNoXTUul4CSXWPv_CXhO_ZVMe783PHHvJiHy_FYAyPuxqcLfbZLJlRQ&amp;s\"/>,\n",
       " <img alt=\"\" class=\"DS1iW\" src=\"https://encrypted-tbn0.gstatic.com/images?q=tbn:ANd9GcQD3w6C-C9_85ErImnxE3ItMtq4um--qPusoNqw6AKi-zTpUao2RCq8EqmXAVM&amp;s\"/>,\n",
       " <img alt=\"\" class=\"DS1iW\" src=\"https://encrypted-tbn0.gstatic.com/images?q=tbn:ANd9GcR_teVKXBajt2KNK8R1okfni3yEWrl8XHOm2ewH6M2T4ClEtYit55UTdUj89w&amp;s\"/>]"
      ]
     },
     "execution_count": 9,
     "metadata": {},
     "output_type": "execute_result"
    }
   ],
   "source": [
    "images_tags"
   ]
  },
  {
   "cell_type": "code",
   "execution_count": 10,
   "id": "b85d2980",
   "metadata": {},
   "outputs": [
    {
     "data": {
      "text/plain": [
       "21"
      ]
     },
     "execution_count": 10,
     "metadata": {},
     "output_type": "execute_result"
    }
   ],
   "source": [
    "len(images_tags)"
   ]
  },
  {
   "cell_type": "code",
   "execution_count": 11,
   "id": "d21946f0",
   "metadata": {},
   "outputs": [],
   "source": [
    "del images_tags[0]"
   ]
  },
  {
   "cell_type": "code",
   "execution_count": 13,
   "id": "c8827e08",
   "metadata": {},
   "outputs": [],
   "source": [
    "img_data_mongo = []\n",
    "for i in images_tags:\n",
    "    image_url = i['src']\n",
    "    image_data = requests.get(image_url).content\n",
    "    mydict = {\"index\": image_url, \"image\":  image_data}\n",
    "    img_data_mongo.append(mydict)\n",
    "    \n",
    "    with open(os.path.join(save_dir, f\"{query}_{images_tags.index(i)}.jpg\"),\"wb\") as f:\n",
    "        f.write(image_data)\n",
    "    \n",
    "    "
   ]
  },
  {
   "cell_type": "code",
   "execution_count": null,
   "id": "0184f0cc",
   "metadata": {},
   "outputs": [],
   "source": []
  }
 ],
 "metadata": {
  "kernelspec": {
   "display_name": "Python 3 (ipykernel)",
   "language": "python",
   "name": "python3"
  },
  "language_info": {
   "codemirror_mode": {
    "name": "ipython",
    "version": 3
   },
   "file_extension": ".py",
   "mimetype": "text/x-python",
   "name": "python",
   "nbconvert_exporter": "python",
   "pygments_lexer": "ipython3",
   "version": "3.12.5"
  }
 },
 "nbformat": 4,
 "nbformat_minor": 5
}
